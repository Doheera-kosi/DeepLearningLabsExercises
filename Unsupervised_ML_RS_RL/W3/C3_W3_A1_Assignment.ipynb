{
 "cells": [
  {
   "cell_type": "markdown",
   "metadata": {},
   "source": [
    "# Deep Q-Learning - Lunar Lander\n",
    "\n",
    "In this assignment, you will train an agent to land a lunar lander safely on a landing pad on the surface of the moon.\n",
    "\n",
    "\n",
    "# Outline\n",
    "- [ 1 - Import Packages <img align=\"Right\" src=\"./images/lunar_lander.gif\" width = 60% >](#1)\n",
    "- [ 2 - Hyperparameters](#2)\n",
    "- [ 3 - The Lunar Lander Environment](#3)\n",
    "  - [ 3.1 Action Space](#3.1)\n",
    "  - [ 3.2 Observation Space](#3.2)\n",
    "  - [ 3.3 Rewards](#3.3)\n",
    "  - [ 3.4 Episode Termination](#3.4)\n",
    "- [ 4 - Load the Environment](#4)\n",
    "- [ 5 - Interacting with the Gym Environment](#5)\n",
    "    - [ 5.1 Exploring the Environment's Dynamics](#5.1)\n",
    "- [ 6 - Deep Q-Learning](#6)\n",
    "  - [ 6.1 Target Network](#6.1)\n",
    "    - [ Exercise 1](#ex01)\n",
    "  - [ 6.2 Experience Replay](#6.2)\n",
    "- [ 7 - Deep Q-Learning Algorithm with Experience Replay](#7)\n",
    "  - [ Exercise 2](#ex02)\n",
    "- [ 8 - Update the Network Weights](#8)\n",
    "- [ 9 - Train the Agent](#9)\n",
    "- [ 10 - See the Trained Agent In Action](#10)\n",
    "- [ 11 - Congratulations!](#11)\n",
    "- [ 12 - References](#12)\n"
   ]
  },
  {
   "cell_type": "markdown",
   "metadata": {},
   "source": [
    "_**NOTE:** To prevent errors from the autograder, you are not allowed to edit or delete non-graded cells in this lab. Please also refrain from adding any new cells. \n",
    "**Once you have passed this assignment** and want to experiment with any of the non-graded code, you may follow the instructions at the bottom of this notebook._"
   ]
  },
  {
   "cell_type": "markdown",
   "metadata": {},
   "source": [
    "<a name=\"1\"></a>\n",
    "## 1 - Import Packages\n",
    "\n",
    "We'll make use of the following packages:\n",
    "- `numpy` is a package for scientific computing in python.\n",
    "- `deque` will be our data structure for our memory buffer.\n",
    "- `namedtuple` will be used to store the experience tuples.\n",
    "- The `gym` toolkit is a collection of environments that can be used to test reinforcement learning algorithms. We should note that in this notebook we are using `gym` version `0.24.0`.\n",
    "- `PIL.Image` and `pyvirtualdisplay` are needed to render the Lunar Lander environment.\n",
    "- We will use several modules from the `tensorflow.keras` framework for building deep learning models.\n",
    "- `utils` is a module that contains helper functions for this assignment. You do not need to modify the code in this file.\n",
    "\n",
    "Run the cell below to import all the necessary packages."
   ]
  },
  {
   "cell_type": "code",
   "execution_count": 6,
   "metadata": {
    "deletable": false,
    "editable": false,
    "id": "KYbOPKRtfQOr"
   },
   "outputs": [],
   "source": [
    "import time\n",
    "from collections import deque, namedtuple\n",
    "\n",
    "import gym\n",
    "import numpy as np\n",
    "import PIL.Image\n",
    "import tensorflow as tf\n",
    "import utils\n",
    "\n",
    "from pyvirtualdisplay import Display\n",
    "from tensorflow.keras import Sequential\n",
    "from tensorflow.keras.layers import Dense, Input\n",
    "from tensorflow.keras.losses import MSE\n",
    "from tensorflow.keras.optimizers import Adam"
   ]
  },
  {
   "cell_type": "code",
   "execution_count": 7,
   "metadata": {
    "deletable": false,
    "editable": false
   },
   "outputs": [],
   "source": [
    "# Set up a virtual display to render the Lunar Lander environment.\n",
    "Display(visible=0, size=(840, 480)).start();\n",
    "\n",
    "# Set the random seed for TensorFlow\n",
    "tf.random.set_seed(utils.SEED)"
   ]
  },
  {
   "cell_type": "markdown",
   "metadata": {},
   "source": [
    "<a name=\"2\"></a>\n",
    "## 2 - Hyperparameters\n",
    "\n",
    "Run the cell below to set the hyperparameters."
   ]
  },
  {
   "cell_type": "code",
   "execution_count": 8,
   "metadata": {
    "deletable": false,
    "editable": false
   },
   "outputs": [],
   "source": [
    "MEMORY_SIZE = 100_000     # size of memory buffer\n",
    "GAMMA = 0.995             # discount factor\n",
    "ALPHA = 1e-3              # learning rate  \n",
    "NUM_STEPS_FOR_UPDATE = 4  # perform a learning update every C time steps"
   ]
  },
  {
   "cell_type": "markdown",
   "metadata": {},
   "source": [
    "<a name=\"3\"></a>\n",
    "## 3 - The Lunar Lander Environment\n",
    "\n",
    "In this notebook we will be using [OpenAI's Gym Library](https://www.gymlibrary.dev/). The Gym library provides a wide variety of environments for reinforcement learning. To put it simply, an environment represents a problem or task to be solved. In this notebook, we will try to solve the Lunar Lander environment using reinforcement learning.\n",
    "\n",
    "The goal of the Lunar Lander environment is to land the lunar lander safely on the landing pad on the surface of the moon. The landing pad is designated by two flag poles and its center is at coordinates `(0,0)` but the lander is also allowed to land outside of the landing pad. The lander starts at the top center of the environment with a random initial force applied to its center of mass and has infinite fuel. The environment is considered solved if you get `200` points. \n",
    "\n",
    "<br>\n",
    "<br>\n",
    "<figure>\n",
    "  <img src = \"images/lunar_lander.gif\" width = 40%>\n",
    "      <figcaption style = \"text-align: center; font-style: italic\">Fig 1. Lunar Lander Environment.</figcaption>\n",
    "</figure>\n",
    "\n",
    "\n",
    "\n",
    "<a name=\"3.1\"></a>\n",
    "### 3.1 Action Space\n",
    "\n",
    "The agent has four discrete actions available:\n",
    "\n",
    "* Do nothing.\n",
    "* Fire right engine.\n",
    "* Fire main engine.\n",
    "* Fire left engine.\n",
    "\n",
    "Each action has a corresponding numerical value:\n",
    "\n",
    "```python\n",
    "Do nothing = 0\n",
    "Fire right engine = 1\n",
    "Fire main engine = 2\n",
    "Fire left engine = 3\n",
    "```\n",
    "\n",
    "<a name=\"3.2\"></a>\n",
    "### 3.2 Observation Space\n",
    "\n",
    "The agent's observation space consists of a state vector with 8 variables:\n",
    "\n",
    "* Its $(x,y)$ coordinates. The landing pad is always at coordinates $(0,0)$.\n",
    "* Its linear velocities $(\\dot x,\\dot y)$.\n",
    "* Its angle $\\theta$.\n",
    "* Its angular velocity $\\dot \\theta$.\n",
    "* Two booleans, $l$ and $r$, that represent whether each leg is in contact with the ground or not.\n",
    "\n",
    "<a name=\"3.3\"></a>\n",
    "### 3.3 Rewards\n",
    "\n",
    "After every step, a reward is granted. The total reward of an episode is the sum of the rewards for all the steps within that episode.\n",
    "\n",
    "For each step, the reward:\n",
    "- is increased/decreased the closer/further the lander is to the landing pad.\n",
    "- is increased/decreased the slower/faster the lander is moving.\n",
    "- is decreased the more the lander is tilted (angle not horizontal).\n",
    "- is increased by 10 points for each leg that is in contact with the ground.\n",
    "- is decreased by 0.03 points each frame a side engine is firing.\n",
    "- is decreased by 0.3 points each frame the main engine is firing.\n",
    "\n",
    "The episode receives an additional reward of -100 or +100 points for crashing or landing safely respectively.\n",
    "\n",
    "<a name=\"3.4\"></a>\n",
    "### 3.4 Episode Termination\n",
    "\n",
    "An episode ends (i.e the environment enters a terminal state) if:\n",
    "\n",
    "* The lunar lander crashes (i.e if the body of the lunar lander comes in contact with the surface of the moon).\n",
    "\n",
    "* The absolute value of the lander's $x$-coordinate is greater than 1 (i.e. it goes beyond the left or right border)\n",
    "\n",
    "You can check out the [Open AI Gym documentation](https://www.gymlibrary.dev/environments/box2d/lunar_lander/) for a full description of the environment. "
   ]
  },
  {
   "cell_type": "markdown",
   "metadata": {},
   "source": [
    "<a name=\"4\"></a>\n",
    "## 4 - Load the Environment\n",
    "\n",
    "We start by loading the `LunarLander-v2` environment from the `gym` library by using the `.make()` method. `LunarLander-v2` is the latest version of the Lunar Lander environment and you can read about its version history in the [Open AI Gym documentation](https://www.gymlibrary.dev/environments/box2d/lunar_lander/#version-history)."
   ]
  },
  {
   "cell_type": "code",
   "execution_count": 9,
   "metadata": {
    "deletable": false,
    "editable": false,
    "id": "ILVMYKewfR0n"
   },
   "outputs": [],
   "source": [
    "env = gym.make('LunarLander-v2')"
   ]
  },
  {
   "cell_type": "markdown",
   "metadata": {},
   "source": [
    "Once we load the environment we use the `.reset()` method to reset the environment to the initial state. The lander starts at the top center of the environment and we can render the first frame of the environment by using the `.render()` method."
   ]
  },
  {
   "cell_type": "code",
   "execution_count": 10,
   "metadata": {
    "deletable": false,
    "editable": false
   },
   "outputs": [
    {
     "data": {
      "image/png": "[encoded data removed]",
      "text/plain": [
       "<PIL.Image.Image image mode=RGB size=600x400 at 0x7FFB2BDEE510>"
      ]
     },
     "execution_count": 10,
     "metadata": {},
     "output_type": "execute_result"
    }
   ],
   "source": [
    "env.reset()\n",
    "PIL.Image.fromarray(env.render(mode='rgb_array'))"
   ]
  },
  {
   "cell_type": "markdown",
   "metadata": {},
   "source": [
    "In order to build our neural network later on we need to know the size of the state vector and the number of valid actions. We can get this information from our environment by using the `.observation_space.shape` and `action_space.n` methods, respectively."
   ]
  },
  {
   "cell_type": "code",
   "execution_count": 11,
   "metadata": {
    "deletable": false,
    "editable": false,
    "id": "x3fdqdG4CUu2"
   },
   "outputs": [
    {
     "name": "stdout",
     "output_type": "stream",
     "text": [
      "State Shape: (8,)\n",
      "Number of actions: 4\n"
     ]
    }
   ],
   "source": [
    "state_size = env.observation_space.shape\n",
    "num_actions = env.action_space.n\n",
    "\n",
    "print('State Shape:', state_size)\n",
    "print('Number of actions:', num_actions)"
   ]
  },
  {
   "cell_type": "markdown",
   "metadata": {},
   "source": [
    "<a name=\"5\"></a>\n",
    "## 5 - Interacting with the Gym Environment\n",
    "\n",
    "The Gym library implements the standard “agent-environment loop” formalism:\n",
    "\n",
    "<br>\n",
    "<center>\n",
    "<video src = \"./videos/rl_formalism.m4v\" width=\"840\" height=\"480\" controls autoplay loop poster=\"./images/rl_formalism.png\"> </video>\n",
    "<figcaption style = \"text-align:center; font-style:italic\">Fig 2. Agent-environment Loop Formalism.</figcaption>\n",
    "</center>\n",
    "<br>\n",
    "\n",
    "In the standard “agent-environment loop” formalism, an agent interacts with the environment in discrete time steps $t=0,1,2,...$. At each time step $t$, the agent uses a policy $\\pi$ to select an action $A_t$ based on its observation of the environment's state $S_t$. The agent receives a numerical reward $R_t$ and on the next time step, moves to a new state $S_{t+1}$.\n",
    "\n",
    "<a name=\"5.1\"></a>\n",
    "### 5.1 Exploring the Environment's Dynamics\n",
    "\n",
    "In Open AI's Gym environments, we use the `.step()` method to run a single time step of the environment's dynamics. In the version of `gym` that we are using the `.step()` method accepts an action and returns four values:\n",
    "\n",
    "* `observation` (**object**): an environment-specific object representing your observation of the environment. In the Lunar Lander environment this corresponds to a numpy array containing the positions and velocities of the lander as described in section [3.2 Observation Space](#3.2).\n",
    "\n",
    "\n",
    "* `reward` (**float**): amount of reward returned as a result of taking the given action. In the Lunar Lander environment this corresponds to a float of type `numpy.float64` as described in section [3.3 Rewards](#3.3).\n",
    "\n",
    "\n",
    "* `done` (**boolean**): When done is `True`, it indicates the episode has terminated and it’s time to reset the environment. \n",
    "\n",
    "\n",
    "* `info` (**dictionary**): diagnostic information useful for debugging. We won't be using this variable in this notebook but it is shown here for completeness.\n",
    "\n",
    "To begin an episode, we need to reset the environment to an initial state. We do this by using the `.reset()` method. "
   ]
  },
  {
   "cell_type": "code",
   "execution_count": 12,
   "metadata": {
    "deletable": false,
    "editable": false
   },
   "outputs": [],
   "source": [
    "# Reset the environment and get the initial state.\n",
    "current_state = env.reset()"
   ]
  },
  {
   "cell_type": "markdown",
   "metadata": {},
   "source": [
    "Once the environment is reset, the agent can start taking actions in the environment by using the `.step()` method. Note that the agent can only take one action per time step. \n",
    "\n",
    "In the cell below you can select different actions and see how the returned values change depending on the action taken. Remember that in this environment the agent has four discrete actions available and we specify them in code by using their corresponding numerical value:\n",
    "\n",
    "```python\n",
    "Do nothing = 0\n",
    "Fire right engine = 1\n",
    "Fire main engine = 2\n",
    "Fire left engine = 3\n",
    "```"
   ]
  },
  {
   "cell_type": "code",
   "execution_count": 13,
   "metadata": {
    "deletable": false
   },
   "outputs": [
    {
     "data": {
      "text/html": [
       "<style  type=\"text/css\" >\n",
       "    #T_052a553c_f113_11ed_b4d7_0242ac12002c th {\n",
       "          border: 1px solid grey;\n",
       "          text-align: center;\n",
       "    }    #T_052a553c_f113_11ed_b4d7_0242ac12002c tbody td {\n",
       "          border: 1px solid grey;\n",
       "          text-align: center;\n",
       "    }    #T_052a553c_f113_11ed_b4d7_0242ac12002crow0_col0 {\n",
       "            background-color :  grey;\n",
       "        }    #T_052a553c_f113_11ed_b4d7_0242ac12002crow1_col1 {\n",
       "            background-color :  grey;\n",
       "        }    #T_052a553c_f113_11ed_b4d7_0242ac12002crow1_col2 {\n",
       "            background-color :  grey;\n",
       "        }    #T_052a553c_f113_11ed_b4d7_0242ac12002crow1_col3 {\n",
       "            background-color :  grey;\n",
       "        }    #T_052a553c_f113_11ed_b4d7_0242ac12002crow1_col4 {\n",
       "            background-color :  grey;\n",
       "        }    #T_052a553c_f113_11ed_b4d7_0242ac12002crow1_col5 {\n",
       "            background-color :  grey;\n",
       "        }    #T_052a553c_f113_11ed_b4d7_0242ac12002crow1_col6 {\n",
       "            background-color :  grey;\n",
       "        }    #T_052a553c_f113_11ed_b4d7_0242ac12002crow1_col7 {\n",
       "            background-color :  grey;\n",
       "        }    #T_052a553c_f113_11ed_b4d7_0242ac12002crow1_col8 {\n",
       "            background-color :  grey;\n",
       "        }    #T_052a553c_f113_11ed_b4d7_0242ac12002crow1_col9 {\n",
       "            background-color :  grey;\n",
       "        }    #T_052a553c_f113_11ed_b4d7_0242ac12002crow1_col10 {\n",
       "            background-color :  grey;\n",
       "        }    #T_052a553c_f113_11ed_b4d7_0242ac12002crow1_col11 {\n",
       "            background-color :  grey;\n",
       "        }    #T_052a553c_f113_11ed_b4d7_0242ac12002crow2_col0 {\n",
       "            background-color :  grey;\n",
       "        }    #T_052a553c_f113_11ed_b4d7_0242ac12002crow3_col1 {\n",
       "            background-color :  grey;\n",
       "        }    #T_052a553c_f113_11ed_b4d7_0242ac12002crow3_col2 {\n",
       "            background-color :  grey;\n",
       "        }    #T_052a553c_f113_11ed_b4d7_0242ac12002crow3_col3 {\n",
       "            background-color :  grey;\n",
       "        }    #T_052a553c_f113_11ed_b4d7_0242ac12002crow3_col4 {\n",
       "            background-color :  grey;\n",
       "        }    #T_052a553c_f113_11ed_b4d7_0242ac12002crow3_col5 {\n",
       "            background-color :  grey;\n",
       "        }    #T_052a553c_f113_11ed_b4d7_0242ac12002crow3_col6 {\n",
       "            background-color :  grey;\n",
       "        }    #T_052a553c_f113_11ed_b4d7_0242ac12002crow3_col7 {\n",
       "            background-color :  grey;\n",
       "        }    #T_052a553c_f113_11ed_b4d7_0242ac12002crow3_col8 {\n",
       "            background-color :  grey;\n",
       "        }    #T_052a553c_f113_11ed_b4d7_0242ac12002crow3_col9 {\n",
       "            background-color :  grey;\n",
       "        }    #T_052a553c_f113_11ed_b4d7_0242ac12002crow3_col10 {\n",
       "            background-color :  grey;\n",
       "        }    #T_052a553c_f113_11ed_b4d7_0242ac12002crow3_col11 {\n",
       "            background-color :  grey;\n",
       "        }    #T_052a553c_f113_11ed_b4d7_0242ac12002crow4_col1 {\n",
       "            background-color :  grey;\n",
       "        }    #T_052a553c_f113_11ed_b4d7_0242ac12002crow4_col2 {\n",
       "            background-color :  grey;\n",
       "        }    #T_052a553c_f113_11ed_b4d7_0242ac12002crow4_col3 {\n",
       "            background-color :  grey;\n",
       "        }    #T_052a553c_f113_11ed_b4d7_0242ac12002crow4_col4 {\n",
       "            background-color :  grey;\n",
       "        }    #T_052a553c_f113_11ed_b4d7_0242ac12002crow4_col5 {\n",
       "            background-color :  grey;\n",
       "        }    #T_052a553c_f113_11ed_b4d7_0242ac12002crow4_col6 {\n",
       "            background-color :  grey;\n",
       "        }    #T_052a553c_f113_11ed_b4d7_0242ac12002crow4_col7 {\n",
       "            background-color :  grey;\n",
       "        }    #T_052a553c_f113_11ed_b4d7_0242ac12002crow4_col8 {\n",
       "            background-color :  grey;\n",
       "        }    #T_052a553c_f113_11ed_b4d7_0242ac12002crow4_col9 {\n",
       "            background-color :  grey;\n",
       "        }    #T_052a553c_f113_11ed_b4d7_0242ac12002crow4_col10 {\n",
       "            background-color :  grey;\n",
       "        }    #T_052a553c_f113_11ed_b4d7_0242ac12002crow4_col11 {\n",
       "            background-color :  grey;\n",
       "        }</style><table id=\"T_052a553c_f113_11ed_b4d7_0242ac12002c\" ><thead>    <tr>        <th class=\"blank level0\" ></th>        <th class=\"col_heading level0 col0\" ></th>        <th class=\"col_heading level0 col1\" colspan=8>State Vector</th>        <th class=\"col_heading level0 col9\" colspan=3>Derived from the State Vector (the closer to zero, the better)</th>    </tr>    <tr>        <th class=\"blank level1\" ></th>        <th class=\"col_heading level1 col0\" ></th>        <th class=\"col_heading level1 col1\" colspan=2>Coordinate</th>        <th class=\"col_heading level1 col3\" colspan=2>Velocity</th>        <th class=\"col_heading level1 col5\" colspan=2>Tilting</th>        <th class=\"col_heading level1 col7\" colspan=2>Ground contact</th>        <th class=\"col_heading level1 col9\" >Distance from landing pad</th>        <th class=\"col_heading level1 col10\" >Velocity</th>        <th class=\"col_heading level1 col11\" >Tilting Angle (absolute value)</th>    </tr>    <tr>        <th class=\"blank level2\" ></th>        <th class=\"col_heading level2 col0\" ></th>        <th class=\"col_heading level2 col1\" >X (Horizontal)</th>        <th class=\"col_heading level2 col2\" >Y (Vertical)</th>        <th class=\"col_heading level2 col3\" >X (Horizontal)</th>        <th class=\"col_heading level2 col4\" >Y (Vertical)</th>        <th class=\"col_heading level2 col5\" >Angle</th>        <th class=\"col_heading level2 col6\" >Angular Velocity</th>        <th class=\"col_heading level2 col7\" >Left Leg?</th>        <th class=\"col_heading level2 col8\" >Right Leg?</th>        <th class=\"col_heading level2 col9\" ></th>        <th class=\"col_heading level2 col10\" ></th>        <th class=\"col_heading level2 col11\" ></th>    </tr></thead><tbody>\n",
       "                <tr>\n",
       "                        <th id=\"T_052a553c_f113_11ed_b4d7_0242ac12002clevel0_row0\" class=\"row_heading level0 row0\" >Current State</th>\n",
       "                        <td id=\"T_052a553c_f113_11ed_b4d7_0242ac12002crow0_col0\" class=\"data row0 col0\" ></td>\n",
       "                        <td id=\"T_052a553c_f113_11ed_b4d7_0242ac12002crow0_col1\" class=\"data row0 col1\" >0.001919</td>\n",
       "                        <td id=\"T_052a553c_f113_11ed_b4d7_0242ac12002crow0_col2\" class=\"data row0 col2\" >1.422301</td>\n",
       "                        <td id=\"T_052a553c_f113_11ed_b4d7_0242ac12002crow0_col3\" class=\"data row0 col3\" >0.194400</td>\n",
       "                        <td id=\"T_052a553c_f113_11ed_b4d7_0242ac12002crow0_col4\" class=\"data row0 col4\" >0.505814</td>\n",
       "                        <td id=\"T_052a553c_f113_11ed_b4d7_0242ac12002crow0_col5\" class=\"data row0 col5\" >-0.002217</td>\n",
       "                        <td id=\"T_052a553c_f113_11ed_b4d7_0242ac12002crow0_col6\" class=\"data row0 col6\" >-0.044034</td>\n",
       "                        <td id=\"T_052a553c_f113_11ed_b4d7_0242ac12002crow0_col7\" class=\"data row0 col7\" >False</td>\n",
       "                        <td id=\"T_052a553c_f113_11ed_b4d7_0242ac12002crow0_col8\" class=\"data row0 col8\" >False</td>\n",
       "                        <td id=\"T_052a553c_f113_11ed_b4d7_0242ac12002crow0_col9\" class=\"data row0 col9\" >1.422302</td>\n",
       "                        <td id=\"T_052a553c_f113_11ed_b4d7_0242ac12002crow0_col10\" class=\"data row0 col10\" >0.541885</td>\n",
       "                        <td id=\"T_052a553c_f113_11ed_b4d7_0242ac12002crow0_col11\" class=\"data row0 col11\" >0.002217</td>\n",
       "            </tr>\n",
       "            <tr>\n",
       "                        <th id=\"T_052a553c_f113_11ed_b4d7_0242ac12002clevel0_row1\" class=\"row_heading level0 row1\" >Action</th>\n",
       "                        <td id=\"T_052a553c_f113_11ed_b4d7_0242ac12002crow1_col0\" class=\"data row1 col0\" >Do nothing</td>\n",
       "                        <td id=\"T_052a553c_f113_11ed_b4d7_0242ac12002crow1_col1\" class=\"data row1 col1\" ></td>\n",
       "                        <td id=\"T_052a553c_f113_11ed_b4d7_0242ac12002crow1_col2\" class=\"data row1 col2\" ></td>\n",
       "                        <td id=\"T_052a553c_f113_11ed_b4d7_0242ac12002crow1_col3\" class=\"data row1 col3\" ></td>\n",
       "                        <td id=\"T_052a553c_f113_11ed_b4d7_0242ac12002crow1_col4\" class=\"data row1 col4\" ></td>\n",
       "                        <td id=\"T_052a553c_f113_11ed_b4d7_0242ac12002crow1_col5\" class=\"data row1 col5\" ></td>\n",
       "                        <td id=\"T_052a553c_f113_11ed_b4d7_0242ac12002crow1_col6\" class=\"data row1 col6\" ></td>\n",
       "                        <td id=\"T_052a553c_f113_11ed_b4d7_0242ac12002crow1_col7\" class=\"data row1 col7\" ></td>\n",
       "                        <td id=\"T_052a553c_f113_11ed_b4d7_0242ac12002crow1_col8\" class=\"data row1 col8\" ></td>\n",
       "                        <td id=\"T_052a553c_f113_11ed_b4d7_0242ac12002crow1_col9\" class=\"data row1 col9\" ></td>\n",
       "                        <td id=\"T_052a553c_f113_11ed_b4d7_0242ac12002crow1_col10\" class=\"data row1 col10\" ></td>\n",
       "                        <td id=\"T_052a553c_f113_11ed_b4d7_0242ac12002crow1_col11\" class=\"data row1 col11\" ></td>\n",
       "            </tr>\n",
       "            <tr>\n",
       "                        <th id=\"T_052a553c_f113_11ed_b4d7_0242ac12002clevel0_row2\" class=\"row_heading level0 row2\" >Next State</th>\n",
       "                        <td id=\"T_052a553c_f113_11ed_b4d7_0242ac12002crow2_col0\" class=\"data row2 col0\" ></td>\n",
       "                        <td id=\"T_052a553c_f113_11ed_b4d7_0242ac12002crow2_col1\" class=\"data row2 col1\" >0.003839</td>\n",
       "                        <td id=\"T_052a553c_f113_11ed_b4d7_0242ac12002crow2_col2\" class=\"data row2 col2\" >1.433103</td>\n",
       "                        <td id=\"T_052a553c_f113_11ed_b4d7_0242ac12002crow2_col3\" class=\"data row2 col3\" >0.194137</td>\n",
       "                        <td id=\"T_052a553c_f113_11ed_b4d7_0242ac12002crow2_col4\" class=\"data row2 col4\" >0.480094</td>\n",
       "                        <td id=\"T_052a553c_f113_11ed_b4d7_0242ac12002crow2_col5\" class=\"data row2 col5\" >-0.004393</td>\n",
       "                        <td id=\"T_052a553c_f113_11ed_b4d7_0242ac12002crow2_col6\" class=\"data row2 col6\" >-0.043519</td>\n",
       "                        <td id=\"T_052a553c_f113_11ed_b4d7_0242ac12002crow2_col7\" class=\"data row2 col7\" >False</td>\n",
       "                        <td id=\"T_052a553c_f113_11ed_b4d7_0242ac12002crow2_col8\" class=\"data row2 col8\" >False</td>\n",
       "                        <td id=\"T_052a553c_f113_11ed_b4d7_0242ac12002crow2_col9\" class=\"data row2 col9\" >1.433108</td>\n",
       "                        <td id=\"T_052a553c_f113_11ed_b4d7_0242ac12002crow2_col10\" class=\"data row2 col10\" >0.517860</td>\n",
       "                        <td id=\"T_052a553c_f113_11ed_b4d7_0242ac12002crow2_col11\" class=\"data row2 col11\" >0.004393</td>\n",
       "            </tr>\n",
       "            <tr>\n",
       "                        <th id=\"T_052a553c_f113_11ed_b4d7_0242ac12002clevel0_row3\" class=\"row_heading level0 row3\" >Reward</th>\n",
       "                        <td id=\"T_052a553c_f113_11ed_b4d7_0242ac12002crow3_col0\" class=\"data row3 col0\" >1.104326</td>\n",
       "                        <td id=\"T_052a553c_f113_11ed_b4d7_0242ac12002crow3_col1\" class=\"data row3 col1\" ></td>\n",
       "                        <td id=\"T_052a553c_f113_11ed_b4d7_0242ac12002crow3_col2\" class=\"data row3 col2\" ></td>\n",
       "                        <td id=\"T_052a553c_f113_11ed_b4d7_0242ac12002crow3_col3\" class=\"data row3 col3\" ></td>\n",
       "                        <td id=\"T_052a553c_f113_11ed_b4d7_0242ac12002crow3_col4\" class=\"data row3 col4\" ></td>\n",
       "                        <td id=\"T_052a553c_f113_11ed_b4d7_0242ac12002crow3_col5\" class=\"data row3 col5\" ></td>\n",
       "                        <td id=\"T_052a553c_f113_11ed_b4d7_0242ac12002crow3_col6\" class=\"data row3 col6\" ></td>\n",
       "                        <td id=\"T_052a553c_f113_11ed_b4d7_0242ac12002crow3_col7\" class=\"data row3 col7\" ></td>\n",
       "                        <td id=\"T_052a553c_f113_11ed_b4d7_0242ac12002crow3_col8\" class=\"data row3 col8\" ></td>\n",
       "                        <td id=\"T_052a553c_f113_11ed_b4d7_0242ac12002crow3_col9\" class=\"data row3 col9\" ></td>\n",
       "                        <td id=\"T_052a553c_f113_11ed_b4d7_0242ac12002crow3_col10\" class=\"data row3 col10\" ></td>\n",
       "                        <td id=\"T_052a553c_f113_11ed_b4d7_0242ac12002crow3_col11\" class=\"data row3 col11\" ></td>\n",
       "            </tr>\n",
       "            <tr>\n",
       "                        <th id=\"T_052a553c_f113_11ed_b4d7_0242ac12002clevel0_row4\" class=\"row_heading level0 row4\" >Episode Terminated</th>\n",
       "                        <td id=\"T_052a553c_f113_11ed_b4d7_0242ac12002crow4_col0\" class=\"data row4 col0\" >False</td>\n",
       "                        <td id=\"T_052a553c_f113_11ed_b4d7_0242ac12002crow4_col1\" class=\"data row4 col1\" ></td>\n",
       "                        <td id=\"T_052a553c_f113_11ed_b4d7_0242ac12002crow4_col2\" class=\"data row4 col2\" ></td>\n",
       "                        <td id=\"T_052a553c_f113_11ed_b4d7_0242ac12002crow4_col3\" class=\"data row4 col3\" ></td>\n",
       "                        <td id=\"T_052a553c_f113_11ed_b4d7_0242ac12002crow4_col4\" class=\"data row4 col4\" ></td>\n",
       "                        <td id=\"T_052a553c_f113_11ed_b4d7_0242ac12002crow4_col5\" class=\"data row4 col5\" ></td>\n",
       "                        <td id=\"T_052a553c_f113_11ed_b4d7_0242ac12002crow4_col6\" class=\"data row4 col6\" ></td>\n",
       "                        <td id=\"T_052a553c_f113_11ed_b4d7_0242ac12002crow4_col7\" class=\"data row4 col7\" ></td>\n",
       "                        <td id=\"T_052a553c_f113_11ed_b4d7_0242ac12002crow4_col8\" class=\"data row4 col8\" ></td>\n",
       "                        <td id=\"T_052a553c_f113_11ed_b4d7_0242ac12002crow4_col9\" class=\"data row4 col9\" ></td>\n",
       "                        <td id=\"T_052a553c_f113_11ed_b4d7_0242ac12002crow4_col10\" class=\"data row4 col10\" ></td>\n",
       "                        <td id=\"T_052a553c_f113_11ed_b4d7_0242ac12002crow4_col11\" class=\"data row4 col11\" ></td>\n",
       "            </tr>\n",
       "    </tbody></table>"
      ],
      "text/plain": [
       "<pandas.io.formats.style.Styler at 0x7ffa8f8a92d0>"
      ]
     },
     "metadata": {},
     "output_type": "display_data"
    }
   ],
   "source": [
    "# Select an action\n",
    "action = 0\n",
    "\n",
    "# Run a single time step of the environment's dynamics with the given action.\n",
    "next_state, reward, done, _ = env.step(action)\n",
    "\n",
    "# Display table with values.\n",
    "utils.display_table(current_state, action, next_state, reward, done)\n",
    "\n",
    "# Replace the `current_state` with the state after the action is taken\n",
    "current_state = next_state"
   ]
  },
  {
   "cell_type": "markdown",
   "metadata": {},
   "source": [
    "In practice, when we train the agent we use a loop to allow the agent to take many consecutive actions during an episode."
   ]
  },
  {
   "cell_type": "markdown",
   "metadata": {},
   "source": [
    "<a name=\"6\"></a>\n",
    "## 6 - Deep Q-Learning\n",
    "\n",
    "In cases where both the state and action space are discrete we can estimate the action-value function iteratively by using the Bellman equation:\n",
    "\n",
    "$$\n",
    "Q_{i+1}(s,a) = R + \\gamma \\max_{a'}Q_i(s',a')\n",
    "$$\n",
    "\n",
    "This iterative method converges to the optimal action-value function $Q^*(s,a)$ as $i\\to\\infty$. This means that the agent just needs to gradually explore the state-action space and keep updating the estimate of $Q(s,a)$ until it converges to the optimal action-value function $Q^*(s,a)$. However, in cases where the state space is continuous it becomes practically impossible to explore the entire state-action space. Consequently, this also makes it practically impossible to gradually estimate $Q(s,a)$ until it converges to $Q^*(s,a)$.\n",
    "\n",
    "In the Deep $Q$-Learning, we solve this problem by using a neural network to estimate the action-value function $Q(s,a)\\approx Q^*(s,a)$. We call this neural network a $Q$-Network and it can be trained by adjusting its weights at each iteration to minimize the mean-squared error in the Bellman equation.\n",
    "\n",
    "Unfortunately, using neural networks in reinforcement learning to estimate action-value functions has proven to be highly unstable. Luckily, there's a couple of techniques that can be employed to avoid instabilities. These techniques consist of using a ***Target Network*** and ***Experience Replay***. We will explore these two techniques in the following sections."
   ]
  },
  {
   "cell_type": "markdown",
   "metadata": {},
   "source": [
    "<a name=\"6.1\"></a>\n",
    "### 6.1 Target Network\n",
    "\n",
    "We can train the $Q$-Network by adjusting it's weights at each iteration to minimize the mean-squared error in the Bellman equation, where the target values are given by:\n",
    "\n",
    "$$\n",
    "y = R + \\gamma \\max_{a'}Q(s',a';w)\n",
    "$$\n",
    "\n",
    "where $w$ are the weights of the $Q$-Network. This means that we are adjusting the weights $w$ at each iteration to minimize the following error:\n",
    "\n",
    "$$\n",
    "\\overbrace{\\underbrace{R + \\gamma \\max_{a'}Q(s',a'; w)}_{\\rm {y~target}} - Q(s,a;w)}^{\\rm {Error}}\n",
    "$$\n",
    "\n",
    "Notice that this forms a problem because the $y$ target is changing on every iteration. Having a constantly moving target can lead to oscillations and instabilities. To avoid this, we can create\n",
    "a separate neural network for generating the $y$ targets. We call this separate neural network the **target $\\hat Q$-Network** and it will have the same architecture as the original $Q$-Network. By using the target $\\hat Q$-Network, the above error becomes:\n",
    "\n",
    "$$\n",
    "\\overbrace{\\underbrace{R + \\gamma \\max_{a'}\\hat{Q}(s',a'; w^-)}_{\\rm {y~target}} - Q(s,a;w)}^{\\rm {Error}}\n",
    "$$\n",
    "\n",
    "where $w^-$ and $w$ are the weights of the target $\\hat Q$-Network and $Q$-Network, respectively.\n",
    "\n",
    "In practice, we will use the following algorithm: every $C$ time steps we will use the $\\hat Q$-Network to generate the $y$ targets and update the weights of the target $\\hat Q$-Network using the weights of the $Q$-Network. We will update the weights $w^-$ of the the target $\\hat Q$-Network using a **soft update**. This means that we will update the weights $w^-$ using the following rule:\n",
    " \n",
    "$$\n",
    "w^-\\leftarrow \\tau w + (1 - \\tau) w^-\n",
    "$$\n",
    "\n",
    "where $\\tau\\ll 1$. By using the soft update, we are ensuring that the target values, $y$, change slowly, which greatly improves the stability of our learning algorithm."
   ]
  },
  {
   "cell_type": "markdown",
   "metadata": {},
   "source": [
    "<a name=\"ex01\"></a>\n",
    "### Exercise 1\n",
    "\n",
    "In this exercise you will create the $Q$ and target $\\hat Q$ networks and set the optimizer. Remember that the Deep $Q$-Network (DQN) is a neural network that approximates the action-value function $Q(s,a)\\approx Q^*(s,a)$. It does this by learning how to map states to $Q$ values.\n",
    "\n",
    "To solve the Lunar Lander environment, we are going to employ a DQN with the following architecture:\n",
    "\n",
    "* An `Input` layer that takes `state_size` as input.\n",
    "\n",
    "* A `Dense` layer with `64` units and a `relu` activation function.\n",
    "\n",
    "* A `Dense` layer with `64` units and a `relu` activation function.\n",
    "\n",
    "* A `Dense` layer with `num_actions` units and a `linear` activation function. This will be the output layer of our network.\n",
    "\n",
    "\n",
    "In the cell below you should create the $Q$-Network and the target $\\hat Q$-Network using the model architecture described above. Remember that both the $Q$-Network and the target $\\hat Q$-Network have the same architecture.\n",
    "\n",
    "Lastly, you should set `Adam` as the optimizer with a learning rate equal to `ALPHA`. Recall that `ALPHA` was defined in the [Hyperparameters](#2) section. We should note that for this exercise you should use the already imported packages:\n",
    "```python\n",
    "from tensorflow.keras.layers import Dense, Input\n",
    "from tensorflow.keras.optimizers import Adam\n",
    "```"
   ]
  },
  {
   "cell_type": "code",
   "execution_count": 14,
   "metadata": {
    "deletable": false
   },
   "outputs": [],
   "source": [
    "# UNQ_C1\n",
    "# GRADED CELL\n",
    "\n",
    "# Create the Q-Network\n",
    "q_network = Sequential([\n",
    "    ### START CODE HERE ### \n",
    "    Input(shape=state_size),                      \n",
    "    Dense(units=64, activation='relu'),            \n",
    "    Dense(units=64, activation='relu'),            \n",
    "    Dense(units=num_actions, activation='linear'),\n",
    "    ### END CODE HERE ### \n",
    "    ])\n",
    "\n",
    "# Create the target Q^-Network\n",
    "target_q_network = Sequential([\n",
    "    ### START CODE HERE ### \n",
    "     Input(shape=state_size),                      \n",
    "    Dense(units=64, activation='relu'),            \n",
    "    Dense(units=64, activation='relu'),            \n",
    "    Dense(units=num_actions, activation='linear'),\n",
    "    ### END CODE HERE ###\n",
    "    ])\n",
    "\n",
    "### START CODE HERE ### \n",
    "optimizer =  Adam(learning_rate=ALPHA)\n",
    "### END CODE HERE ###"
   ]
  },
  {
   "cell_type": "code",
   "execution_count": 15,
   "metadata": {
    "deletable": false,
    "editable": false
   },
   "outputs": [
    {
     "name": "stdout",
     "output_type": "stream",
     "text": [
      "\u001b[92mAll tests passed!\n",
      "\u001b[92mAll tests passed!\n",
      "\u001b[92mAll tests passed!\n"
     ]
    }
   ],
   "source": [
    "# UNIT TEST\n",
    "from public_tests import *\n",
    "\n",
    "test_network(q_network)\n",
    "test_network(target_q_network)\n",
    "test_optimizer(optimizer, ALPHA) "
   ]
  },
  {
   "cell_type": "markdown",
   "metadata": {},
   "source": [
    "<details>\n",
    "  <summary><font size=\"3\" color=\"darkgreen\"><b>Click for hints</b></font></summary>\n",
    "    \n",
    "```python\n",
    "# Create the Q-Network\n",
    "q_network = Sequential([\n",
    "    Input(shape=state_size),                      \n",
    "    Dense(units=64, activation='relu'),            \n",
    "    Dense(units=64, activation='relu'),            \n",
    "    Dense(units=num_actions, activation='linear'),\n",
    "    ])\n",
    "\n",
    "# Create the target Q^-Network\n",
    "target_q_network = Sequential([\n",
    "    Input(shape=state_size),                       \n",
    "    Dense(units=64, activation='relu'),            \n",
    "    Dense(units=64, activation='relu'),            \n",
    "    Dense(units=num_actions, activation='linear'), \n",
    "    ])\n",
    "\n",
    "optimizer = Adam(learning_rate=ALPHA)                                  \n",
    "``` "
   ]
  },
  {
   "cell_type": "markdown",
   "metadata": {},
   "source": [
    "<a name=\"6.2\"></a>\n",
    "### 6.2 Experience Replay\n",
    "\n",
    "When an agent interacts with the environment, the states, actions, and rewards the agent experiences are sequential by nature. If the agent tries to learn from these consecutive experiences it can run into problems due to the strong correlations between them. To avoid this, we employ a technique known as **Experience Replay** to generate uncorrelated experiences for training our agent. Experience replay consists of storing the agent's experiences (i.e the states, actions, and rewards the agent receives) in a memory buffer and then sampling a random mini-batch of experiences from the buffer to do the learning. The experience tuples $(S_t, A_t, R_t, S_{t+1})$ will be added to the memory buffer at each time step as the agent interacts with the environment.\n",
    "\n",
    "For convenience, we will store the experiences as named tuples."
   ]
  },
  {
   "cell_type": "code",
   "execution_count": 16,
   "metadata": {
    "deletable": false,
    "editable": false
   },
   "outputs": [],
   "source": [
    "# Store experiences as named tuples\n",
    "experience = namedtuple(\"Experience\", field_names=[\"state\", \"action\", \"reward\", \"next_state\", \"done\"])"
   ]
  },
  {
   "cell_type": "markdown",
   "metadata": {},
   "source": [
    "By using experience replay we avoid problematic correlations, oscillations and instabilities. In addition, experience replay also allows the agent to potentially use the same experience in multiple weight updates, which increases data efficiency."
   ]
  },
  {
   "cell_type": "markdown",
   "metadata": {},
   "source": [
    "<a name=\"7\"></a>\n",
    "## 7 - Deep Q-Learning Algorithm with Experience Replay\n",
    "\n",
    "Now that we know all the techniques that we are going to use, we can put them together to arrive at the Deep Q-Learning Algorithm With Experience Replay.\n",
    "<br>\n",
    "<br>\n",
    "<figure>\n",
    "  <img src = \"images/deep_q_algorithm.png\" width = 90% style = \"border: thin silver solid; padding: 0px\">\n",
    "      <figcaption style = \"text-align: center; font-style: italic\">Fig 3. Deep Q-Learning with Experience Replay.</figcaption>\n",
    "</figure>"
   ]
  },
  {
   "cell_type": "markdown",
   "metadata": {},
   "source": [
    "<a name=\"ex02\"></a>\n",
    "### Exercise 2\n",
    "\n",
    "In this exercise you will implement line ***12*** of the algorithm outlined in *Fig 3* above and you will also compute the loss between the $y$ targets and the $Q(s,a)$ values. In the cell below, complete the `compute_loss` function by setting the $y$ targets equal to:\n",
    "\n",
    "$$\n",
    "\\begin{equation}\n",
    "    y_j =\n",
    "    \\begin{cases}\n",
    "      R_j & \\text{if episode terminates at step  } j+1\\\\\n",
    "      R_j + \\gamma \\max_{a'}\\hat{Q}(s_{j+1},a') & \\text{otherwise}\\\\\n",
    "    \\end{cases}       \n",
    "\\end{equation}\n",
    "$$\n",
    "\n",
    "Here are a couple of things to note:\n",
    "\n",
    "* The `compute_loss` function takes in a mini-batch of experience tuples. This mini-batch of experience tuples is unpacked to extract the `states`, `actions`, `rewards`, `next_states`, and `done_vals`. You should keep in mind that these variables are *TensorFlow Tensors* whose size will depend on the mini-batch size. For example, if the mini-batch size is `64` then both `rewards` and `done_vals` will be TensorFlow Tensors with `64` elements.\n",
    "\n",
    "\n",
    "* Using `if/else` statements to set the $y$ targets will not work when the variables are tensors with many elements. However, notice that you can use the `done_vals` to implement the above in a single line of code. To do this, recall that the `done` variable is a Boolean variable that takes the value `True` when an episode terminates at step $j+1$ and it is `False` otherwise. Taking into account that a Boolean value of `True` has the numerical value of `1` and a Boolean value of `False` has the numerical value of `0`, you can use the factor `(1 - done_vals)` to implement the above in a single line of code. Here's a hint: notice that `(1 - done_vals)` has a value of `0` when `done_vals` is `True` and a value of `1` when `done_vals` is `False`. \n",
    "\n",
    "Lastly, compute the loss by calculating the Mean-Squared Error (`MSE`) between the `y_targets` and the `q_values`. To calculate the mean-squared error you should use the already imported package `MSE`:\n",
    "```python\n",
    "from tensorflow.keras.losses import MSE\n",
    "```"
   ]
  },
  {
   "cell_type": "code",
   "execution_count": 24,
   "metadata": {
    "deletable": false
   },
   "outputs": [],
   "source": [
    "# UNQ_C2\n",
    "# GRADED FUNCTION: calculate_loss\n",
    "\n",
    "def compute_loss(experiences, gamma, q_network, target_q_network):\n",
    "    \"\"\" \n",
    "    Calculates the loss.\n",
    "    \n",
    "    Args:\n",
    "      experiences: (tuple) tuple of [\"state\", \"action\", \"reward\", \"next_state\", \"done\"] namedtuples\n",
    "      gamma: (float) The discount factor.\n",
    "      q_network: (tf.keras.Sequential) Keras model for predicting the q_values\n",
    "      target_q_network: (tf.keras.Sequential) Keras model for predicting the targets\n",
    "          \n",
    "    Returns:\n",
    "      loss: (TensorFlow Tensor(shape=(0,), dtype=int32)) the Mean-Squared Error between\n",
    "            the y targets and the Q(s,a) values.\n",
    "    \"\"\"\n",
    "\n",
    "    # Unpack the mini-batch of experience tuples\n",
    "    states, actions, rewards, next_states, done_vals = experiences\n",
    "    \n",
    "    # Compute max Q^(s,a)\n",
    "    max_qsa = tf.reduce_max(target_q_network(next_states), axis=-1)\n",
    "    \n",
    "    # Set y = R if episode terminates, otherwise set y = R + γ max Q^(s,a).\n",
    "    y_targets = tf.where(done_vals, rewards, rewards + gamma * max_qsa)\n",
    "    \n",
    "    # Get the q_values and reshape to match y_targets\n",
    "    q_values = q_network(states)\n",
    "    q_values = tf.gather_nd(q_values, tf.stack([tf.range(q_values.shape[0]),\n",
    "                                                tf.cast(actions, tf.int32)], axis=1))\n",
    "        \n",
    "    # Compute the loss\n",
    "    loss = tf.reduce_mean(tf.square(y_targets - q_values))\n",
    "    \n",
    "    return loss"
   ]
  },
  {
   "cell_type": "code",
   "execution_count": 25,
   "metadata": {
    "deletable": false,
    "editable": false
   },
   "outputs": [
    {
     "name": "stdout",
     "output_type": "stream",
     "text": [
      "\u001b[92mAll tests passed!\n"
     ]
    }
   ],
   "source": [
    "# UNIT TEST    \n",
    "test_compute_loss(compute_loss)"
   ]
  },
  {
   "cell_type": "markdown",
   "metadata": {},
   "source": [
    "<details>\n",
    "  <summary><font size=\"3\" color=\"darkgreen\"><b>Click for hints</b></font></summary>\n",
    "    \n",
    "```python\n",
    "def compute_loss(experiences, gamma, q_network, target_q_network):\n",
    "    \"\"\" \n",
    "    Calculates the loss.\n",
    "    \n",
    "    Args:\n",
    "      experiences: (tuple) tuple of [\"state\", \"action\", \"reward\", \"next_state\", \"done\"] namedtuples\n",
    "      gamma: (float) The discount factor.\n",
    "      q_network: (tf.keras.Sequential) Keras model for predicting the q_values\n",
    "      target_q_network: (tf.keras.Sequential) Keras model for predicting the targets\n",
    "          \n",
    "    Returns:\n",
    "      loss: (TensorFlow Tensor(shape=(0,), dtype=int32)) the Mean-Squared Error between\n",
    "            the y targets and the Q(s,a) values.\n",
    "    \"\"\"\n",
    "\n",
    "    \n",
    "    # Unpack the mini-batch of experience tuples\n",
    "    states, actions, rewards, next_states, done_vals = experiences\n",
    "    \n",
    "    # Compute max Q^(s,a)\n",
    "    max_qsa = tf.reduce_max(target_q_network(next_states), axis=-1)\n",
    "    \n",
    "    # Set y = R if episode terminates, otherwise set y = R + γ max Q^(s,a).\n",
    "    y_targets = rewards + (gamma * max_qsa * (1 - done_vals))\n",
    "    \n",
    "    # Get the q_values\n",
    "    q_values = q_network(states)\n",
    "    q_values = tf.gather_nd(q_values, tf.stack([tf.range(q_values.shape[0]),\n",
    "                                                tf.cast(actions, tf.int32)], axis=1))\n",
    "    \n",
    "    # Calculate the loss\n",
    "    loss = MSE(y_targets, q_values)\n",
    "    \n",
    "    return loss\n",
    "\n",
    "``` \n",
    "    "
   ]
  },
  {
   "cell_type": "markdown",
   "metadata": {},
   "source": [
    "<a name=\"8\"></a>\n",
    "## 8 - Update the Network Weights\n",
    "\n",
    "We will use the `agent_learn` function below to implement lines ***12 -14*** of the algorithm outlined in [Fig 3](#7). The `agent_learn` function will update the weights of the $Q$ and target $\\hat Q$ networks using a custom training loop. Because we are using a custom training loop we need to retrieve the gradients via a `tf.GradientTape` instance, and then call `optimizer.apply_gradients()` to update the weights of our $Q$-Network. Note that we are also using the `@tf.function` decorator to increase performance. Without this decorator our training will take twice as long. If you would like to know more about how to increase performance with `@tf.function` take a look at the [TensorFlow documentation](https://www.tensorflow.org/guide/function).\n",
    "\n",
    "The last line of this function updates the weights of the target $\\hat Q$-Network using a [soft update](#6.1). If you want to know how this is implemented in code we encourage you to take a look at the `utils.update_target_network` function in the `utils` module."
   ]
  },
  {
   "cell_type": "code",
   "execution_count": 26,
   "metadata": {
    "deletable": false,
    "editable": false
   },
   "outputs": [],
   "source": [
    "@tf.function\n",
    "def agent_learn(experiences, gamma):\n",
    "    \"\"\"\n",
    "    Updates the weights of the Q networks.\n",
    "    \n",
    "    Args:\n",
    "      experiences: (tuple) tuple of [\"state\", \"action\", \"reward\", \"next_state\", \"done\"] namedtuples\n",
    "      gamma: (float) The discount factor.\n",
    "    \n",
    "    \"\"\"\n",
    "    \n",
    "    # Calculate the loss\n",
    "    with tf.GradientTape() as tape:\n",
    "        loss = compute_loss(experiences, gamma, q_network, target_q_network)\n",
    "\n",
    "    # Get the gradients of the loss with respect to the weights.\n",
    "    gradients = tape.gradient(loss, q_network.trainable_variables)\n",
    "    \n",
    "    # Update the weights of the q_network.\n",
    "    optimizer.apply_gradients(zip(gradients, q_network.trainable_variables))\n",
    "\n",
    "    # update the weights of target q_network\n",
    "    utils.update_target_network(q_network, target_q_network)"
   ]
  },
  {
   "cell_type": "markdown",
   "metadata": {},
   "source": [
    "<a name=\"9\"></a>\n",
    "## 9 - Train the Agent\n",
    "\n",
    "We are now ready to train our agent to solve the Lunar Lander environment. In the cell below we will implement the algorithm in [Fig 3](#7) line by line (please note that we have included the same algorithm below for easy reference. This will prevent you from scrolling up and down the notebook):\n",
    "\n",
    "* **Line 1**: We initialize the `memory_buffer` with a capacity of $N =$ `MEMORY_SIZE`. Notice that we are using a `deque` as the data structure for our `memory_buffer`.\n",
    "\n",
    "\n",
    "* **Line 2**: We skip this line since we already initialized the `q_network` in [Exercise 1](#ex01).\n",
    "\n",
    "\n",
    "* **Line 3**: We initialize the `target_q_network` by setting its weights to be equal to those of the `q_network`.\n",
    "\n",
    "\n",
    "* **Line 4**: We start the outer loop. Notice that we have set $M =$ `num_episodes = 2000`. This number is reasonable because the agent should be able to solve the Lunar Lander environment in less than `2000` episodes using this notebook's default parameters.\n",
    "\n",
    "\n",
    "* **Line 5**: We use the `.reset()` method to reset the environment to the initial state and get the initial state.\n",
    "\n",
    "\n",
    "* **Line 6**: We start the inner loop. Notice that we have set $T =$ `max_num_timesteps = 1000`. This means that the episode will automatically terminate if the episode hasn't terminated after `1000` time steps.\n",
    "\n",
    "\n",
    "* **Line 7**: The agent observes the current `state` and chooses an `action` using an $\\epsilon$-greedy policy. Our agent starts out using a value of $\\epsilon =$ `epsilon = 1` which yields an $\\epsilon$-greedy policy that is equivalent to the equiprobable random policy. This means that at the beginning of our training, the agent is just going to take random actions regardless of the observed `state`. As training progresses we will decrease the value of $\\epsilon$ slowly towards a minimum value using a given $\\epsilon$-decay rate. We want this minimum value to be close to zero because a value of $\\epsilon = 0$ will yield an $\\epsilon$-greedy policy that is equivalent to the greedy policy. This means that towards the end of training, the agent will lean towards selecting the `action` that it believes (based on its past experiences) will maximize $Q(s,a)$. We will set the minimum $\\epsilon$ value to be `0.01` and not exactly 0 because we always want to keep a little bit of exploration during training. If you want to know how this is implemented in code we encourage you to take a look at the `utils.get_action` function in the `utils` module.\n",
    "\n",
    "\n",
    "* **Line 8**: We use the `.step()` method to take the given `action` in the environment and get the `reward` and the `next_state`. \n",
    "\n",
    "\n",
    "* **Line 9**: We store the `experience(state, action, reward, next_state, done)` tuple in our `memory_buffer`. Notice that we also store the `done` variable so that we can keep track of when an episode terminates. This allowed us to set the $y$ targets in [Exercise 2](#ex02).\n",
    "\n",
    "\n",
    "* **Line 10**: We check if the conditions are met to perform a learning update. We do this by using our custom `utils.check_update_conditions` function. This function checks if $C =$ `NUM_STEPS_FOR_UPDATE = 4` time steps have occured and if our `memory_buffer` has enough experience tuples to fill a mini-batch. For example, if the mini-batch size is `64`, then our `memory_buffer` should have more than `64` experience tuples in order to pass the latter condition. If the conditions are met, then the `utils.check_update_conditions` function will return a value of `True`, otherwise it will return a value of `False`.\n",
    "\n",
    "\n",
    "* **Lines 11 - 14**: If the `update` variable is `True` then we perform a learning update. The learning update consists of sampling a random mini-batch of experience tuples from our `memory_buffer`, setting the $y$ targets, performing gradient descent, and updating the weights of the networks. We will use the `agent_learn` function we defined in [Section 8](#8) to perform the latter 3.\n",
    "\n",
    "\n",
    "* **Line 15**: At the end of each iteration of the inner loop we set `next_state` as our new `state` so that the loop can start again from this new state. In addition, we check if the episode has reached a terminal state (i.e we check if `done = True`). If a terminal state has been reached, then we break out of the inner loop.\n",
    "\n",
    "\n",
    "* **Line 16**: At the end of each iteration of the outer loop we update the value of $\\epsilon$, and check if the environment has been solved. We consider that the environment has been solved if the agent receives an average of `200` points in the last `100` episodes. If the environment has not been solved we continue the outer loop and start a new episode.\n",
    "\n",
    "Finally, we wanted to note that we have included some extra variables to keep track of the total number of points the agent received in each episode. This will help us determine if the agent has solved the environment and it will also allow us to see how our agent performed during training. We also use the `time` module to measure how long the training takes. \n",
    "\n",
    "<br>\n",
    "<br>\n",
    "<figure>\n",
    "  <img src = \"images/deep_q_algorithm.png\" width = 90% style = \"border: thin silver solid; padding: 0px\">\n",
    "      <figcaption style = \"text-align: center; font-style: italic\">Fig 4. Deep Q-Learning with Experience Replay.</figcaption>\n",
    "</figure>\n",
    "<br>\n",
    "\n",
    "**Note:** With this notebook's default parameters, the following cell takes between 10 to 15 minutes to run. "
   ]
  },
  {
   "cell_type": "code",
   "execution_count": 28,
   "metadata": {
    "deletable": false,
    "editable": false
   },
   "outputs": [
    {
     "ename": "TypeError",
     "evalue": "in converted code:\n\n    <ipython-input-26-ebdf0fb43251>:14 agent_learn  *\n        loss = compute_loss(experiences, gamma, q_network, target_q_network)\n    <ipython-input-24-691dfd70c576>:26 compute_loss  *\n        y_targets = tf.where(done_vals, rewards, rewards + gamma * max_qsa)\n    /opt/conda/lib/python3.7/site-packages/tensorflow_core/python/ops/array_ops.py:3930 where_v2\n        return gen_math_ops.select_v2(condition=condition, t=x, e=y, name=name)\n    /opt/conda/lib/python3.7/site-packages/tensorflow_core/python/ops/gen_math_ops.py:8692 select_v2\n        \"SelectV2\", condition=condition, t=t, e=e, name=name)\n    /opt/conda/lib/python3.7/site-packages/tensorflow_core/python/framework/op_def_library.py:491 _apply_op_helper\n        (prefix, dtypes.as_dtype(input_arg.type).name))\n\n    TypeError: Input 'condition' of 'SelectV2' Op has type float32 that does not match expected type of bool.\n",
     "output_type": "error",
     "traceback": [
      "\u001b[0;31m---------------------------------------------------------------------------\u001b[0m",
      "\u001b[0;31mTypeError\u001b[0m                                 Traceback (most recent call last)",
      "\u001b[0;32m<ipython-input-28-4b91c371776f>\u001b[0m in \u001b[0;36m<module>\u001b[0;34m\u001b[0m\n\u001b[1;32m     44\u001b[0m             \u001b[0;31m# Set the y targets, perform a gradient descent step,\u001b[0m\u001b[0;34m\u001b[0m\u001b[0;34m\u001b[0m\u001b[0;34m\u001b[0m\u001b[0m\n\u001b[1;32m     45\u001b[0m             \u001b[0;31m# and update the network weights.\u001b[0m\u001b[0;34m\u001b[0m\u001b[0;34m\u001b[0m\u001b[0;34m\u001b[0m\u001b[0m\n\u001b[0;32m---> 46\u001b[0;31m             \u001b[0magent_learn\u001b[0m\u001b[0;34m(\u001b[0m\u001b[0mexperiences\u001b[0m\u001b[0;34m,\u001b[0m \u001b[0mGAMMA\u001b[0m\u001b[0;34m)\u001b[0m\u001b[0;34m\u001b[0m\u001b[0;34m\u001b[0m\u001b[0m\n\u001b[0m\u001b[1;32m     47\u001b[0m \u001b[0;34m\u001b[0m\u001b[0m\n\u001b[1;32m     48\u001b[0m         \u001b[0mstate\u001b[0m \u001b[0;34m=\u001b[0m \u001b[0mnext_state\u001b[0m\u001b[0;34m.\u001b[0m\u001b[0mcopy\u001b[0m\u001b[0;34m(\u001b[0m\u001b[0;34m)\u001b[0m\u001b[0;34m\u001b[0m\u001b[0;34m\u001b[0m\u001b[0m\n",
      "\u001b[0;32m/opt/conda/lib/python3.7/site-packages/tensorflow_core/python/eager/def_function.py\u001b[0m in \u001b[0;36m__call__\u001b[0;34m(self, *args, **kwds)\u001b[0m\n\u001b[1;32m    566\u001b[0m         \u001b[0mxla_context\u001b[0m\u001b[0;34m.\u001b[0m\u001b[0mExit\u001b[0m\u001b[0;34m(\u001b[0m\u001b[0;34m)\u001b[0m\u001b[0;34m\u001b[0m\u001b[0;34m\u001b[0m\u001b[0m\n\u001b[1;32m    567\u001b[0m     \u001b[0;32melse\u001b[0m\u001b[0;34m:\u001b[0m\u001b[0;34m\u001b[0m\u001b[0;34m\u001b[0m\u001b[0m\n\u001b[0;32m--> 568\u001b[0;31m       \u001b[0mresult\u001b[0m \u001b[0;34m=\u001b[0m \u001b[0mself\u001b[0m\u001b[0;34m.\u001b[0m\u001b[0m_call\u001b[0m\u001b[0;34m(\u001b[0m\u001b[0;34m*\u001b[0m\u001b[0margs\u001b[0m\u001b[0;34m,\u001b[0m \u001b[0;34m**\u001b[0m\u001b[0mkwds\u001b[0m\u001b[0;34m)\u001b[0m\u001b[0;34m\u001b[0m\u001b[0;34m\u001b[0m\u001b[0m\n\u001b[0m\u001b[1;32m    569\u001b[0m \u001b[0;34m\u001b[0m\u001b[0m\n\u001b[1;32m    570\u001b[0m     \u001b[0;32mif\u001b[0m \u001b[0mtracing_count\u001b[0m \u001b[0;34m==\u001b[0m \u001b[0mself\u001b[0m\u001b[0;34m.\u001b[0m\u001b[0m_get_tracing_count\u001b[0m\u001b[0;34m(\u001b[0m\u001b[0;34m)\u001b[0m\u001b[0;34m:\u001b[0m\u001b[0;34m\u001b[0m\u001b[0;34m\u001b[0m\u001b[0m\n",
      "\u001b[0;32m/opt/conda/lib/python3.7/site-packages/tensorflow_core/python/eager/def_function.py\u001b[0m in \u001b[0;36m_call\u001b[0;34m(self, *args, **kwds)\u001b[0m\n\u001b[1;32m    604\u001b[0m       \u001b[0;31m# In this case we have not created variables on the first call. So we can\u001b[0m\u001b[0;34m\u001b[0m\u001b[0;34m\u001b[0m\u001b[0;34m\u001b[0m\u001b[0m\n\u001b[1;32m    605\u001b[0m       \u001b[0;31m# run the first trace but we should fail if variables are created.\u001b[0m\u001b[0;34m\u001b[0m\u001b[0;34m\u001b[0m\u001b[0;34m\u001b[0m\u001b[0m\n\u001b[0;32m--> 606\u001b[0;31m       \u001b[0mresults\u001b[0m \u001b[0;34m=\u001b[0m \u001b[0mself\u001b[0m\u001b[0;34m.\u001b[0m\u001b[0m_stateful_fn\u001b[0m\u001b[0;34m(\u001b[0m\u001b[0;34m*\u001b[0m\u001b[0margs\u001b[0m\u001b[0;34m,\u001b[0m \u001b[0;34m**\u001b[0m\u001b[0mkwds\u001b[0m\u001b[0;34m)\u001b[0m\u001b[0;34m\u001b[0m\u001b[0;34m\u001b[0m\u001b[0m\n\u001b[0m\u001b[1;32m    607\u001b[0m       \u001b[0;32mif\u001b[0m \u001b[0mself\u001b[0m\u001b[0;34m.\u001b[0m\u001b[0m_created_variables\u001b[0m\u001b[0;34m:\u001b[0m\u001b[0;34m\u001b[0m\u001b[0;34m\u001b[0m\u001b[0m\n\u001b[1;32m    608\u001b[0m         raise ValueError(\"Creating variables on a non-first call to a function\"\n",
      "\u001b[0;32m/opt/conda/lib/python3.7/site-packages/tensorflow_core/python/eager/function.py\u001b[0m in \u001b[0;36m__call__\u001b[0;34m(self, *args, **kwargs)\u001b[0m\n\u001b[1;32m   2360\u001b[0m     \u001b[0;34m\"\"\"Calls a graph function specialized to the inputs.\"\"\"\u001b[0m\u001b[0;34m\u001b[0m\u001b[0;34m\u001b[0m\u001b[0m\n\u001b[1;32m   2361\u001b[0m     \u001b[0;32mwith\u001b[0m \u001b[0mself\u001b[0m\u001b[0;34m.\u001b[0m\u001b[0m_lock\u001b[0m\u001b[0;34m:\u001b[0m\u001b[0;34m\u001b[0m\u001b[0;34m\u001b[0m\u001b[0m\n\u001b[0;32m-> 2362\u001b[0;31m       \u001b[0mgraph_function\u001b[0m\u001b[0;34m,\u001b[0m \u001b[0margs\u001b[0m\u001b[0;34m,\u001b[0m \u001b[0mkwargs\u001b[0m \u001b[0;34m=\u001b[0m \u001b[0mself\u001b[0m\u001b[0;34m.\u001b[0m\u001b[0m_maybe_define_function\u001b[0m\u001b[0;34m(\u001b[0m\u001b[0margs\u001b[0m\u001b[0;34m,\u001b[0m \u001b[0mkwargs\u001b[0m\u001b[0;34m)\u001b[0m\u001b[0;34m\u001b[0m\u001b[0;34m\u001b[0m\u001b[0m\n\u001b[0m\u001b[1;32m   2363\u001b[0m     \u001b[0;32mreturn\u001b[0m \u001b[0mgraph_function\u001b[0m\u001b[0;34m.\u001b[0m\u001b[0m_filtered_call\u001b[0m\u001b[0;34m(\u001b[0m\u001b[0margs\u001b[0m\u001b[0;34m,\u001b[0m \u001b[0mkwargs\u001b[0m\u001b[0;34m)\u001b[0m  \u001b[0;31m# pylint: disable=protected-access\u001b[0m\u001b[0;34m\u001b[0m\u001b[0;34m\u001b[0m\u001b[0m\n\u001b[1;32m   2364\u001b[0m \u001b[0;34m\u001b[0m\u001b[0m\n",
      "\u001b[0;32m/opt/conda/lib/python3.7/site-packages/tensorflow_core/python/eager/function.py\u001b[0m in \u001b[0;36m_maybe_define_function\u001b[0;34m(self, args, kwargs)\u001b[0m\n\u001b[1;32m   2701\u001b[0m \u001b[0;34m\u001b[0m\u001b[0m\n\u001b[1;32m   2702\u001b[0m       \u001b[0mself\u001b[0m\u001b[0;34m.\u001b[0m\u001b[0m_function_cache\u001b[0m\u001b[0;34m.\u001b[0m\u001b[0mmissed\u001b[0m\u001b[0;34m.\u001b[0m\u001b[0madd\u001b[0m\u001b[0;34m(\u001b[0m\u001b[0mcall_context_key\u001b[0m\u001b[0;34m)\u001b[0m\u001b[0;34m\u001b[0m\u001b[0;34m\u001b[0m\u001b[0m\n\u001b[0;32m-> 2703\u001b[0;31m       \u001b[0mgraph_function\u001b[0m \u001b[0;34m=\u001b[0m \u001b[0mself\u001b[0m\u001b[0;34m.\u001b[0m\u001b[0m_create_graph_function\u001b[0m\u001b[0;34m(\u001b[0m\u001b[0margs\u001b[0m\u001b[0;34m,\u001b[0m \u001b[0mkwargs\u001b[0m\u001b[0;34m)\u001b[0m\u001b[0;34m\u001b[0m\u001b[0;34m\u001b[0m\u001b[0m\n\u001b[0m\u001b[1;32m   2704\u001b[0m       \u001b[0mself\u001b[0m\u001b[0;34m.\u001b[0m\u001b[0m_function_cache\u001b[0m\u001b[0;34m.\u001b[0m\u001b[0mprimary\u001b[0m\u001b[0;34m[\u001b[0m\u001b[0mcache_key\u001b[0m\u001b[0;34m]\u001b[0m \u001b[0;34m=\u001b[0m \u001b[0mgraph_function\u001b[0m\u001b[0;34m\u001b[0m\u001b[0;34m\u001b[0m\u001b[0m\n\u001b[1;32m   2705\u001b[0m       \u001b[0;32mreturn\u001b[0m \u001b[0mgraph_function\u001b[0m\u001b[0;34m,\u001b[0m \u001b[0margs\u001b[0m\u001b[0;34m,\u001b[0m \u001b[0mkwargs\u001b[0m\u001b[0;34m\u001b[0m\u001b[0;34m\u001b[0m\u001b[0m\n",
      "\u001b[0;32m/opt/conda/lib/python3.7/site-packages/tensorflow_core/python/eager/function.py\u001b[0m in \u001b[0;36m_create_graph_function\u001b[0;34m(self, args, kwargs, override_flat_arg_shapes)\u001b[0m\n\u001b[1;32m   2591\u001b[0m             \u001b[0marg_names\u001b[0m\u001b[0;34m=\u001b[0m\u001b[0marg_names\u001b[0m\u001b[0;34m,\u001b[0m\u001b[0;34m\u001b[0m\u001b[0;34m\u001b[0m\u001b[0m\n\u001b[1;32m   2592\u001b[0m             \u001b[0moverride_flat_arg_shapes\u001b[0m\u001b[0;34m=\u001b[0m\u001b[0moverride_flat_arg_shapes\u001b[0m\u001b[0;34m,\u001b[0m\u001b[0;34m\u001b[0m\u001b[0;34m\u001b[0m\u001b[0m\n\u001b[0;32m-> 2593\u001b[0;31m             capture_by_value=self._capture_by_value),\n\u001b[0m\u001b[1;32m   2594\u001b[0m         \u001b[0mself\u001b[0m\u001b[0;34m.\u001b[0m\u001b[0m_function_attributes\u001b[0m\u001b[0;34m,\u001b[0m\u001b[0;34m\u001b[0m\u001b[0;34m\u001b[0m\u001b[0m\n\u001b[1;32m   2595\u001b[0m         \u001b[0;31m# Tell the ConcreteFunction to clean up its graph once it goes out of\u001b[0m\u001b[0;34m\u001b[0m\u001b[0;34m\u001b[0m\u001b[0;34m\u001b[0m\u001b[0m\n",
      "\u001b[0;32m/opt/conda/lib/python3.7/site-packages/tensorflow_core/python/framework/func_graph.py\u001b[0m in \u001b[0;36mfunc_graph_from_py_func\u001b[0;34m(name, python_func, args, kwargs, signature, func_graph, autograph, autograph_options, add_control_dependencies, arg_names, op_return_value, collections, capture_by_value, override_flat_arg_shapes)\u001b[0m\n\u001b[1;32m    976\u001b[0m                                           converted_func)\n\u001b[1;32m    977\u001b[0m \u001b[0;34m\u001b[0m\u001b[0m\n\u001b[0;32m--> 978\u001b[0;31m       \u001b[0mfunc_outputs\u001b[0m \u001b[0;34m=\u001b[0m \u001b[0mpython_func\u001b[0m\u001b[0;34m(\u001b[0m\u001b[0;34m*\u001b[0m\u001b[0mfunc_args\u001b[0m\u001b[0;34m,\u001b[0m \u001b[0;34m**\u001b[0m\u001b[0mfunc_kwargs\u001b[0m\u001b[0;34m)\u001b[0m\u001b[0;34m\u001b[0m\u001b[0;34m\u001b[0m\u001b[0m\n\u001b[0m\u001b[1;32m    979\u001b[0m \u001b[0;34m\u001b[0m\u001b[0m\n\u001b[1;32m    980\u001b[0m       \u001b[0;31m# invariant: `func_outputs` contains only Tensors, CompositeTensors,\u001b[0m\u001b[0;34m\u001b[0m\u001b[0;34m\u001b[0m\u001b[0;34m\u001b[0m\u001b[0m\n",
      "\u001b[0;32m/opt/conda/lib/python3.7/site-packages/tensorflow_core/python/eager/def_function.py\u001b[0m in \u001b[0;36mwrapped_fn\u001b[0;34m(*args, **kwds)\u001b[0m\n\u001b[1;32m    437\u001b[0m         \u001b[0;31m# __wrapped__ allows AutoGraph to swap in a converted function. We give\u001b[0m\u001b[0;34m\u001b[0m\u001b[0;34m\u001b[0m\u001b[0;34m\u001b[0m\u001b[0m\n\u001b[1;32m    438\u001b[0m         \u001b[0;31m# the function a weak reference to itself to avoid a reference cycle.\u001b[0m\u001b[0;34m\u001b[0m\u001b[0;34m\u001b[0m\u001b[0;34m\u001b[0m\u001b[0m\n\u001b[0;32m--> 439\u001b[0;31m         \u001b[0;32mreturn\u001b[0m \u001b[0mweak_wrapped_fn\u001b[0m\u001b[0;34m(\u001b[0m\u001b[0;34m)\u001b[0m\u001b[0;34m.\u001b[0m\u001b[0m__wrapped__\u001b[0m\u001b[0;34m(\u001b[0m\u001b[0;34m*\u001b[0m\u001b[0margs\u001b[0m\u001b[0;34m,\u001b[0m \u001b[0;34m**\u001b[0m\u001b[0mkwds\u001b[0m\u001b[0;34m)\u001b[0m\u001b[0;34m\u001b[0m\u001b[0;34m\u001b[0m\u001b[0m\n\u001b[0m\u001b[1;32m    440\u001b[0m     \u001b[0mweak_wrapped_fn\u001b[0m \u001b[0;34m=\u001b[0m \u001b[0mweakref\u001b[0m\u001b[0;34m.\u001b[0m\u001b[0mref\u001b[0m\u001b[0;34m(\u001b[0m\u001b[0mwrapped_fn\u001b[0m\u001b[0;34m)\u001b[0m\u001b[0;34m\u001b[0m\u001b[0;34m\u001b[0m\u001b[0m\n\u001b[1;32m    441\u001b[0m \u001b[0;34m\u001b[0m\u001b[0m\n",
      "\u001b[0;32m/opt/conda/lib/python3.7/site-packages/tensorflow_core/python/framework/func_graph.py\u001b[0m in \u001b[0;36mwrapper\u001b[0;34m(*args, **kwargs)\u001b[0m\n\u001b[1;32m    966\u001b[0m           \u001b[0;32mexcept\u001b[0m \u001b[0mException\u001b[0m \u001b[0;32mas\u001b[0m \u001b[0me\u001b[0m\u001b[0;34m:\u001b[0m  \u001b[0;31m# pylint:disable=broad-except\u001b[0m\u001b[0;34m\u001b[0m\u001b[0;34m\u001b[0m\u001b[0m\n\u001b[1;32m    967\u001b[0m             \u001b[0;32mif\u001b[0m \u001b[0mhasattr\u001b[0m\u001b[0;34m(\u001b[0m\u001b[0me\u001b[0m\u001b[0;34m,\u001b[0m \u001b[0;34m\"ag_error_metadata\"\u001b[0m\u001b[0;34m)\u001b[0m\u001b[0;34m:\u001b[0m\u001b[0;34m\u001b[0m\u001b[0;34m\u001b[0m\u001b[0m\n\u001b[0;32m--> 968\u001b[0;31m               \u001b[0;32mraise\u001b[0m \u001b[0me\u001b[0m\u001b[0;34m.\u001b[0m\u001b[0mag_error_metadata\u001b[0m\u001b[0;34m.\u001b[0m\u001b[0mto_exception\u001b[0m\u001b[0;34m(\u001b[0m\u001b[0me\u001b[0m\u001b[0;34m)\u001b[0m\u001b[0;34m\u001b[0m\u001b[0;34m\u001b[0m\u001b[0m\n\u001b[0m\u001b[1;32m    969\u001b[0m             \u001b[0;32melse\u001b[0m\u001b[0;34m:\u001b[0m\u001b[0;34m\u001b[0m\u001b[0;34m\u001b[0m\u001b[0m\n\u001b[1;32m    970\u001b[0m               \u001b[0;32mraise\u001b[0m\u001b[0;34m\u001b[0m\u001b[0;34m\u001b[0m\u001b[0m\n",
      "\u001b[0;31mTypeError\u001b[0m: in converted code:\n\n    <ipython-input-26-ebdf0fb43251>:14 agent_learn  *\n        loss = compute_loss(experiences, gamma, q_network, target_q_network)\n    <ipython-input-24-691dfd70c576>:26 compute_loss  *\n        y_targets = tf.where(done_vals, rewards, rewards + gamma * max_qsa)\n    /opt/conda/lib/python3.7/site-packages/tensorflow_core/python/ops/array_ops.py:3930 where_v2\n        return gen_math_ops.select_v2(condition=condition, t=x, e=y, name=name)\n    /opt/conda/lib/python3.7/site-packages/tensorflow_core/python/ops/gen_math_ops.py:8692 select_v2\n        \"SelectV2\", condition=condition, t=t, e=e, name=name)\n    /opt/conda/lib/python3.7/site-packages/tensorflow_core/python/framework/op_def_library.py:491 _apply_op_helper\n        (prefix, dtypes.as_dtype(input_arg.type).name))\n\n    TypeError: Input 'condition' of 'SelectV2' Op has type float32 that does not match expected type of bool.\n"
     ]
    }
   ],
   "source": [
    "start = time.time()\n",
    "\n",
    "num_episodes = 2000\n",
    "max_num_timesteps = 1000\n",
    "\n",
    "total_point_history = []\n",
    "\n",
    "num_p_av = 100    # number of total points to use for averaging\n",
    "epsilon = 1.0     # initial ε value for ε-greedy policy\n",
    "\n",
    "# Create a memory buffer D with capacity N\n",
    "memory_buffer = deque(maxlen=MEMORY_SIZE)\n",
    "\n",
    "# Set the target network weights equal to the Q-Network weights\n",
    "target_q_network.set_weights(q_network.get_weights())\n",
    "\n",
    "for i in range(num_episodes):\n",
    "    \n",
    "    # Reset the environment to the initial state and get the initial state\n",
    "    state = env.reset()\n",
    "    total_points = 0\n",
    "    \n",
    "    for t in range(max_num_timesteps):\n",
    "        \n",
    "        # From the current state S choose an action A using an ε-greedy policy\n",
    "        state_qn = np.expand_dims(state, axis=0)  # state needs to be the right shape for the q_network\n",
    "        q_values = q_network(state_qn)\n",
    "        action = utils.get_action(q_values, epsilon)\n",
    "        \n",
    "        # Take action A and receive reward R and the next state S'\n",
    "        next_state, reward, done, _ = env.step(action)\n",
    "        \n",
    "        # Store experience tuple (S,A,R,S') in the memory buffer.\n",
    "        # We store the done variable as well for convenience.\n",
    "        memory_buffer.append(experience(state, action, reward, next_state, done))\n",
    "        \n",
    "        # Only update the network every NUM_STEPS_FOR_UPDATE time steps.\n",
    "        update = utils.check_update_conditions(t, NUM_STEPS_FOR_UPDATE, memory_buffer)\n",
    "        \n",
    "        if update:\n",
    "            # Sample random mini-batch of experience tuples (S,A,R,S') from D\n",
    "            experiences = utils.get_experiences(memory_buffer)\n",
    "            \n",
    "            # Set the y targets, perform a gradient descent step,\n",
    "            # and update the network weights.\n",
    "            agent_learn(experiences, GAMMA)\n",
    "        \n",
    "        state = next_state.copy()\n",
    "        total_points += reward\n",
    "        \n",
    "        if done:\n",
    "            break\n",
    "            \n",
    "    total_point_history.append(total_points)\n",
    "    av_latest_points = np.mean(total_point_history[-num_p_av:])\n",
    "    \n",
    "    # Update the ε value\n",
    "    epsilon = utils.get_new_eps(epsilon)\n",
    "\n",
    "    print(f\"\\rEpisode {i+1} | Total point average of the last {num_p_av} episodes: {av_latest_points:.2f}\", end=\"\")\n",
    "\n",
    "    if (i+1) % num_p_av == 0:\n",
    "        print(f\"\\rEpisode {i+1} | Total point average of the last {num_p_av} episodes: {av_latest_points:.2f}\")\n",
    "\n",
    "    # We will consider that the environment is solved if we get an\n",
    "    # average of 200 points in the last 100 episodes.\n",
    "    if av_latest_points >= 200.0:\n",
    "        print(f\"\\n\\nEnvironment solved in {i+1} episodes!\")\n",
    "        q_network.save('lunar_lander_model.h5')\n",
    "        break\n",
    "        \n",
    "tot_time = time.time() - start\n",
    "\n",
    "print(f\"\\nTotal Runtime: {tot_time:.2f} s ({(tot_time/60):.2f} min)\")"
   ]
  },
  {
   "cell_type": "markdown",
   "metadata": {},
   "source": [
    "We can plot the total point history along with the moving average to see how our agent improved during training. If you want to know about the different plotting options available in the `utils.plot_history` function we encourage you to take a look at the `utils` module."
   ]
  },
  {
   "cell_type": "code",
   "execution_count": 29,
   "metadata": {
    "deletable": false,
    "editable": false,
    "id": "E_EUXxurfe8m",
    "scrolled": false
   },
   "outputs": [
    {
     "ename": "ZeroDivisionError",
     "evalue": "integer division or modulo by zero",
     "output_type": "error",
     "traceback": [
      "\u001b[0;31m---------------------------------------------------------------------------\u001b[0m",
      "\u001b[0;31mZeroDivisionError\u001b[0m                         Traceback (most recent call last)",
      "\u001b[0;32m<ipython-input-29-b7b3e169ae0d>\u001b[0m in \u001b[0;36m<module>\u001b[0;34m\u001b[0m\n\u001b[1;32m      1\u001b[0m \u001b[0;31m# Plot the total point history along with the moving average\u001b[0m\u001b[0;34m\u001b[0m\u001b[0;34m\u001b[0m\u001b[0;34m\u001b[0m\u001b[0m\n\u001b[0;32m----> 2\u001b[0;31m \u001b[0mutils\u001b[0m\u001b[0;34m.\u001b[0m\u001b[0mplot_history\u001b[0m\u001b[0;34m(\u001b[0m\u001b[0mtotal_point_history\u001b[0m\u001b[0;34m)\u001b[0m\u001b[0;34m\u001b[0m\u001b[0;34m\u001b[0m\u001b[0m\n\u001b[0m",
      "\u001b[0;32m~/work/utils.py\u001b[0m in \u001b[0;36mplot_history\u001b[0;34m(point_history, **kwargs)\u001b[0m\n\u001b[1;32m    246\u001b[0m     \u001b[0;32melse\u001b[0m\u001b[0;34m:\u001b[0m\u001b[0;34m\u001b[0m\u001b[0;34m\u001b[0m\u001b[0m\n\u001b[1;32m    247\u001b[0m         \u001b[0mplt\u001b[0m\u001b[0;34m.\u001b[0m\u001b[0mplot\u001b[0m\u001b[0;34m(\u001b[0m\u001b[0mepisode_num\u001b[0m\u001b[0;34m,\u001b[0m \u001b[0mpoints\u001b[0m\u001b[0;34m,\u001b[0m \u001b[0mlinewidth\u001b[0m\u001b[0;34m=\u001b[0m\u001b[0;36m1\u001b[0m\u001b[0;34m,\u001b[0m \u001b[0mcolor\u001b[0m\u001b[0;34m=\u001b[0m\u001b[0;34m\"cyan\"\u001b[0m\u001b[0;34m)\u001b[0m\u001b[0;34m\u001b[0m\u001b[0;34m\u001b[0m\u001b[0m\n\u001b[0;32m--> 248\u001b[0;31m         \u001b[0mplt\u001b[0m\u001b[0;34m.\u001b[0m\u001b[0mplot\u001b[0m\u001b[0;34m(\u001b[0m\u001b[0mepisode_num\u001b[0m\u001b[0;34m,\u001b[0m \u001b[0mrolling_mean\u001b[0m\u001b[0;34m,\u001b[0m \u001b[0mlinewidth\u001b[0m\u001b[0;34m=\u001b[0m\u001b[0;36m2\u001b[0m\u001b[0;34m,\u001b[0m \u001b[0mcolor\u001b[0m\u001b[0;34m=\u001b[0m\u001b[0;34m\"magenta\"\u001b[0m\u001b[0;34m)\u001b[0m\u001b[0;34m\u001b[0m\u001b[0;34m\u001b[0m\u001b[0m\n\u001b[0m\u001b[1;32m    249\u001b[0m \u001b[0;34m\u001b[0m\u001b[0m\n\u001b[1;32m    250\u001b[0m     \u001b[0mtext_color\u001b[0m \u001b[0;34m=\u001b[0m \u001b[0;34m\"black\"\u001b[0m\u001b[0;34m\u001b[0m\u001b[0;34m\u001b[0m\u001b[0m\n",
      "\u001b[0;32m/opt/conda/lib/python3.7/site-packages/matplotlib/pyplot.py\u001b[0m in \u001b[0;36mplot\u001b[0;34m(scalex, scaley, data, *args, **kwargs)\u001b[0m\n\u001b[1;32m   2761\u001b[0m     return gca().plot(\n\u001b[1;32m   2762\u001b[0m         *args, scalex=scalex, scaley=scaley, **({\"data\": data} if data\n\u001b[0;32m-> 2763\u001b[0;31m         is not None else {}), **kwargs)\n\u001b[0m\u001b[1;32m   2764\u001b[0m \u001b[0;34m\u001b[0m\u001b[0m\n\u001b[1;32m   2765\u001b[0m \u001b[0;34m\u001b[0m\u001b[0m\n",
      "\u001b[0;32m/opt/conda/lib/python3.7/site-packages/matplotlib/axes/_axes.py\u001b[0m in \u001b[0;36mplot\u001b[0;34m(self, scalex, scaley, data, *args, **kwargs)\u001b[0m\n\u001b[1;32m   1644\u001b[0m         \"\"\"\n\u001b[1;32m   1645\u001b[0m         \u001b[0mkwargs\u001b[0m \u001b[0;34m=\u001b[0m \u001b[0mcbook\u001b[0m\u001b[0;34m.\u001b[0m\u001b[0mnormalize_kwargs\u001b[0m\u001b[0;34m(\u001b[0m\u001b[0mkwargs\u001b[0m\u001b[0;34m,\u001b[0m \u001b[0mmlines\u001b[0m\u001b[0;34m.\u001b[0m\u001b[0mLine2D\u001b[0m\u001b[0;34m)\u001b[0m\u001b[0;34m\u001b[0m\u001b[0;34m\u001b[0m\u001b[0m\n\u001b[0;32m-> 1646\u001b[0;31m         \u001b[0mlines\u001b[0m \u001b[0;34m=\u001b[0m \u001b[0;34m[\u001b[0m\u001b[0;34m*\u001b[0m\u001b[0mself\u001b[0m\u001b[0;34m.\u001b[0m\u001b[0m_get_lines\u001b[0m\u001b[0;34m(\u001b[0m\u001b[0;34m*\u001b[0m\u001b[0margs\u001b[0m\u001b[0;34m,\u001b[0m \u001b[0mdata\u001b[0m\u001b[0;34m=\u001b[0m\u001b[0mdata\u001b[0m\u001b[0;34m,\u001b[0m \u001b[0;34m**\u001b[0m\u001b[0mkwargs\u001b[0m\u001b[0;34m)\u001b[0m\u001b[0;34m]\u001b[0m\u001b[0;34m\u001b[0m\u001b[0;34m\u001b[0m\u001b[0m\n\u001b[0m\u001b[1;32m   1647\u001b[0m         \u001b[0;32mfor\u001b[0m \u001b[0mline\u001b[0m \u001b[0;32min\u001b[0m \u001b[0mlines\u001b[0m\u001b[0;34m:\u001b[0m\u001b[0;34m\u001b[0m\u001b[0;34m\u001b[0m\u001b[0m\n\u001b[1;32m   1648\u001b[0m             \u001b[0mself\u001b[0m\u001b[0;34m.\u001b[0m\u001b[0madd_line\u001b[0m\u001b[0;34m(\u001b[0m\u001b[0mline\u001b[0m\u001b[0;34m)\u001b[0m\u001b[0;34m\u001b[0m\u001b[0;34m\u001b[0m\u001b[0m\n",
      "\u001b[0;32m/opt/conda/lib/python3.7/site-packages/matplotlib/axes/_base.py\u001b[0m in \u001b[0;36m__call__\u001b[0;34m(self, *args, **kwargs)\u001b[0m\n\u001b[1;32m    214\u001b[0m                 \u001b[0mthis\u001b[0m \u001b[0;34m+=\u001b[0m \u001b[0margs\u001b[0m\u001b[0;34m[\u001b[0m\u001b[0;36m0\u001b[0m\u001b[0;34m]\u001b[0m\u001b[0;34m,\u001b[0m\u001b[0;34m\u001b[0m\u001b[0;34m\u001b[0m\u001b[0m\n\u001b[1;32m    215\u001b[0m                 \u001b[0margs\u001b[0m \u001b[0;34m=\u001b[0m \u001b[0margs\u001b[0m\u001b[0;34m[\u001b[0m\u001b[0;36m1\u001b[0m\u001b[0;34m:\u001b[0m\u001b[0;34m]\u001b[0m\u001b[0;34m\u001b[0m\u001b[0;34m\u001b[0m\u001b[0m\n\u001b[0;32m--> 216\u001b[0;31m             \u001b[0;32myield\u001b[0m \u001b[0;32mfrom\u001b[0m \u001b[0mself\u001b[0m\u001b[0;34m.\u001b[0m\u001b[0m_plot_args\u001b[0m\u001b[0;34m(\u001b[0m\u001b[0mthis\u001b[0m\u001b[0;34m,\u001b[0m \u001b[0mkwargs\u001b[0m\u001b[0;34m)\u001b[0m\u001b[0;34m\u001b[0m\u001b[0;34m\u001b[0m\u001b[0m\n\u001b[0m\u001b[1;32m    217\u001b[0m \u001b[0;34m\u001b[0m\u001b[0m\n\u001b[1;32m    218\u001b[0m     \u001b[0;32mdef\u001b[0m \u001b[0mget_next_color\u001b[0m\u001b[0;34m(\u001b[0m\u001b[0mself\u001b[0m\u001b[0;34m)\u001b[0m\u001b[0;34m:\u001b[0m\u001b[0;34m\u001b[0m\u001b[0;34m\u001b[0m\u001b[0m\n",
      "\u001b[0;32m/opt/conda/lib/python3.7/site-packages/matplotlib/axes/_base.py\u001b[0m in \u001b[0;36m_plot_args\u001b[0;34m(self, tup, kwargs)\u001b[0m\n\u001b[1;32m    362\u001b[0m                 \"non-matching shapes is deprecated.\")\n\u001b[1;32m    363\u001b[0m         return [func(x[:, j % ncx], y[:, j % ncy], kw, kwargs)\n\u001b[0;32m--> 364\u001b[0;31m                 for j in range(max(ncx, ncy))]\n\u001b[0m\u001b[1;32m    365\u001b[0m \u001b[0;34m\u001b[0m\u001b[0m\n\u001b[1;32m    366\u001b[0m \u001b[0;34m\u001b[0m\u001b[0m\n",
      "\u001b[0;32m/opt/conda/lib/python3.7/site-packages/matplotlib/axes/_base.py\u001b[0m in \u001b[0;36m<listcomp>\u001b[0;34m(.0)\u001b[0m\n\u001b[1;32m    362\u001b[0m                 \"non-matching shapes is deprecated.\")\n\u001b[1;32m    363\u001b[0m         return [func(x[:, j % ncx], y[:, j % ncy], kw, kwargs)\n\u001b[0;32m--> 364\u001b[0;31m                 for j in range(max(ncx, ncy))]\n\u001b[0m\u001b[1;32m    365\u001b[0m \u001b[0;34m\u001b[0m\u001b[0m\n\u001b[1;32m    366\u001b[0m \u001b[0;34m\u001b[0m\u001b[0m\n",
      "\u001b[0;31mZeroDivisionError\u001b[0m: integer division or modulo by zero"
     ]
    },
    {
     "data": {
      "image/png": "[encoded data removed]",
      "text/plain": [
       "<Figure size 720x504 with 1 Axes>"
      ]
     },
     "metadata": {},
     "output_type": "display_data"
    }
   ],
   "source": [
    "# Plot the total point history along with the moving average\n",
    "utils.plot_history(total_point_history)"
   ]
  },
  {
   "cell_type": "markdown",
   "metadata": {
    "id": "c_xwgaX5MnYt"
   },
   "source": [
    "<a name=\"10\"></a>\n",
    "## 10 - See the Trained Agent In Action\n",
    "\n",
    "Now that we have trained our agent, we can see it in action. We will use the `utils.create_video` function to create a video of our agent interacting with the environment using the trained $Q$-Network. The `utils.create_video` function uses the `imageio` library to create the video. This library produces some warnings that can be distracting, so, to suppress these warnings we run the code below."
   ]
  },
  {
   "cell_type": "code",
   "execution_count": 30,
   "metadata": {
    "deletable": false,
    "editable": false
   },
   "outputs": [],
   "source": [
    "# Suppress warnings from imageio\n",
    "import logging\n",
    "logging.getLogger().setLevel(logging.ERROR)"
   ]
  },
  {
   "cell_type": "markdown",
   "metadata": {},
   "source": [
    "In the cell below we create a video of our agent interacting with the Lunar Lander environment using the trained `q_network`. The video is saved to the `videos` folder with the given `filename`. We use the `utils.embed_mp4` function to embed the video in the Jupyter Notebook so that we can see it here directly without having to download it.\n",
    "\n",
    "We should note that since the lunar lander starts with a random initial force applied to its center of mass, every time you run the cell below you will see a different video. If the agent was trained properly, it should be able to land the lunar lander in the landing pad every time, regardless of the initial force applied to its center of mass."
   ]
  },
  {
   "cell_type": "code",
   "execution_count": 31,
   "metadata": {
    "deletable": false,
    "editable": false,
    "id": "3Ttb_zLeJKiG"
   },
   "outputs": [
    {
     "data": {
      "text/html": [
       "\n",
       "    <video width=\"840\" height=\"480\" controls>\n",
       "    <source src=\"data:video/mp4;base64,AAAAIGZ0eXBpc29tAAACAGlzb21pc28yYXZjMW1wNDEAAAAIZnJlZQAASB5tZGF0AAACrwYF//+r3EXpvebZSLeWLNgg2SPu73gyNjQgLSBjb3JlIDE1OSByMjk5MSAxNzcxYjU1IC0gSC4yNjQvTVBFRy00IEFWQyBjb2RlYyAtIENvcHlsZWZ0IDIwMDMtMjAxOSAtIGh0dHA6Ly93d3cudmlkZW9sYW4ub3JnL3gyNjQuaHRtbCAtIG9wdGlvbnM6IGNhYmFjPTEgcmVmPTMgZGVibG9jaz0xOjA6MCBhbmFseXNlPTB4MzoweDExMyBtZT1oZXggc3VibWU9NyBwc3k9MSBwc3lfcmQ9MS4wMDowLjAwIG1peGVkX3JlZj0xIG1lX3JhbmdlPTE2IGNocm9tYV9tZT0xIHRyZWxsaXM9MSA4eDhkY3Q9MSBjcW09MCBkZWFkem9uZT0yMSwxMSBmYXN0X3Bza2lwPTEgY2hyb21hX3FwX29mZnNldD0tMiB0aHJlYWRzPTEyIGxvb2thaGVhZF90aHJlYWRzPTIgc2xpY2VkX3RocmVhZHM9MCBucj0wIGRlY2ltYXRlPTEgaW50ZXJsYWNlZD0wIGJsdXJheV9jb21wYXQ9MCBjb25zdHJhaW5lZF9pbnRyYT0wIGJmcmFtZXM9MyBiX3B5cmFtaWQ9MiBiX2FkYXB0PTEgYl9iaWFzPTAgZGlyZWN0PTEgd2VpZ2h0Yj0xIG9wZW5fZ29wPTAgd2VpZ2h0cD0yIGtleWludD0yNTAga2V5aW50X21pbj0yNSBzY2VuZWN1dD00MCBpbnRyYV9yZWZyZXNoPTAgcmNfbG9va2FoZWFkPTQwIHJjPWNyZiBtYnRyZWU9MSBjcmY9MjMuMCBxY29tcD0wLjYwIHFwbWluPTAgcXBtYXg9NjkgcXBzdGVwPTQgaXBfcmF0aW89MS40MCBhcT0xOjEuMDAAgAAACC1liIQAN//+9vD+BTZWBFCXEc3onTMfvxW4ujQ3vdkR4IncLIvD45e991rrtKy8AATkk/gXftKbIKpopafoH3I1nnMY7HYOkUcIqApc0RH6aRXM+RCVseUyBKczizBq+FXzqIoHBjy8Hv4M9Aw//VH8x6/36VZcLNeEEHjiw8vYOa5l54U4PNuy1+MgO7/sQfq26xxZxFN/HSituNWg3nMLUa8m30rlNJb4Z4D0+eZiiy+zVs+gYgyhVX91EhHwsRgiF0oTduxctUFqu8R/nhcrHAFlHdo20kUa1Y582FQpudwiYd73hPWxQDygAAADAACgl2rBaaLPL03IV38vdBUN0HeZbwILLagNsAABWwM4ZtQZcUEVocwjg9hvDlG6Q4ugLw6zB2JwoSRfXZ6XJApLpzXAxsLsAw/UfOb2cV8hrnb5mo7O7y5nRMNSsYba0SCNUwiYjv3QdGDAk9PuKiAb+KCy9HHkwXLvB6vKNzOOKKKjlmIFB3xOC42H0T3dk26zrgOi6xJ5LYpyxT36Lr94bSsLbE5u+AHg9pBVY2levP6yRJkZ6kvmKJfU90syc8FGPp6WKHM5Pibsg5CAKi3ieGtMfVHTSni9RoLw5RGwJhEKpg1kWdre/Jo05+/6hTmfaYBGL++IwShwkP9DHyB6F7RBeZVBc6aQP2LVaArbTCOb3SElYmYanBWtLJjfd0njoIEG3qsVaXfVhaSDJLdHZyRk/2eU07VHz3+1cUvKTM2BRp6FgwcfYBlCng/WQ27FOeEZHq9X47ovLJGc8yBoYOHJ8Vh3lZknjSTaOccmSnwkQ3mW1UhWXOUAGaq4IxAbZSlqyK96ZLrKKkfObZPEGkHr0SNOZTJR7G5wCqz7S8pryxFxFM2L/+GQcJ/6tNdcdmVzROpfmfvQ+AjhAavw/fDLWcb7sRsL2VyCUqrLmML52F1+Xm0/94s1YXrD2wcEOfZXiZXmx5RXRdwU+RnDMkinxnaVtRWet4eOLUVwjlLTHGdjjQnduahWKaiOE0SnaTZuFpm8vzEHz372Wugx+aUQPYCgMBB4tQVTHpNxhJ9bv0OHcWqSF4Pke7gAnJmA8C2mKZsbaVmLPd+WkO7MxNo3bCmaKyK19hpAw/B4V1Ql0V9NYhA27vgrLJkCi9P03LByxIxsYVcjURnJVsihd4ovsrpZNi1haLZaj6gOLnbj0oHoBWaOA13Y7EtmYG4UrDnf51d4c+nmoCwr1J3TNtx35zxr6yF/3Uv7owimBQD8BMtmScXUVKhXobon6NhShq3e6vh8sVs5BU5LEGwe4SymODQXp3QHXmEyDxGZJIrHc1lEZdH5i6BdMoUfiV60jAMrjUL0/GeYqH7Bdq8E+2G2Yyb4d6qyn3f7gHs8z09C7oqKRHYmClTOwhdLxyxCeHlYRMjhJ3iY8PR2FTTn2YeIHYN+sINwLEvQJqTmm75AbKEyePpgiwceqc4hZwtCkfhoOqeGr766drIIOR11rArz1ktibtdxgF4Osvo1q9ckEGG//AcfbfGHU14tjZg8GJFqClxMwJr5aD2qt7l5goaxugDxaLYh5mMepJCR2VKyMg7CB9+/ZmNoBqXmTLbSwVULJAMbgo2h/i/rrKBIHY+3dQjJhpRof3e4YcgVarKTty/1bxEAC8TN87lg/aqNpi/jyoZbcFFA9Ay3MsI2gBcqHokmQs/d/mGAk3HQuoNoNJixEpiqg0fJD5WAWoopGXzLEdMRSdfSSNFC21Hhx0G+v4nlS17q8EjxW7vREkjo1kbJ6xAlPIkQj6xR4//uRrQxstmMd697Xq5KiCut+Xz8KYJ/oN+qAPrEvhV72DB4SVoynFgESixhW9hkAdCQZ3PrMFK2aT+Zt37NrV8G0z+cjiZn8ZrsgOziFe+spc7n3K0AACvfuesDEtLk4YzynEFNwjRyM/7w6rAZVhQgPv/x1cMa3sMCWbYUCoF1myqLh+xq/+jRG3vPhR4AtN2RlrNqwV8jUvcf9J1PbU6U5PRR6ElxPAOsdA0Ik5bpRYvShiMAnAji1dAsaVTzHnlxF0HHREg+pC0UWlvLmryYRhsDLaTKk3KvbGM64XdCZzSxBhyMaRI4Z+u7/KBm/tgAvjLjGgxob8CDoBMseFfRrcL54HLlqZErQvp1aqW2fs3q2Bjc8E3YQt8oAd1W9fBEsPuKplVijEOyAAANL/xr30oj2x5OUYdE3SL5A0TGA6Oi6j2lMecjSDqGFueKjHbCp9NTpa7AGOuBeDRYDUA3Uhgpg3wkPNX6tSdvxwu5IeWkXZbql+4lVDvl0HcjmldzO+hG/EIYYY07xhSb8u9xNuVmWDqxqd6l22IBnGovqy8GK0m/wNZpcnGqpEOKe3ZbGfPDdVktraslHJbkaMnWRDFcIGH8TeacXasAAEZsxknsqQDtMAFiQYg+AsbicpurHWL1SJCmx1rz47K62p9JRYZYWrJmrrG6mxWmatQcnsZyJozT2zN4v1HwcBXvejvW0JeKz0Auj4vUMVvlZo7m7PotZXvycP26b3W8KWtU5yJ7OxSy0D91CYZMm7zgAAAJccvRtPWNTO8fM16Riyus0IeHKL796P0Igp9zPdtchayFJa8NBWqzwguYBP69mLePNPzwEvKM9l+o/mBpN7o5UZkhWfavSLjHEBAO6MuZY2FMF1evppzn5vAiZfG/Ru77ZY2uQmRG/yRpu135ecxMAAOf3dJgOWFHtvSRN8IoPeDhJmZiIo25G/GvrtP4HW15RkRbfBVSA593dTzZ4+V7em6vuvYIwAAEmcBWQQAAARxBmiRsQ3/+p49wn/A2Sf0HKnu0AJVEr9+Ue3+kn2l0bqaSgMHXjT7vUjZzo1Q/NW3LMcH/nMcYva/se/c98YjI9/0xBZjzgfME/m7ClB9eHXy69rbjYI2y+7iSfALqwrYbx3KvAi2Jtas37+8L4lz2qv2T9HeVkcIH4R7GP4qB5KxdvEZwYeN/a1SkYAAAd3dSpQzX3L+P/OYW4PYiXp2+ApVyGebV75DxhMJX6ASLcN/nM6pnpuJ0x85T+r3u21KxfODc75FysSsBDbnbDR/HYXa6nO1NIgVS8cqDzcCVyfWRFZllTWCRUDNb5oTpqDA86DTWUvl/VgG/XcOmSn6prCasB8CdhinYZ92gAdhMI0pASPqdlPqWPOJDwAAAADZBnkJ4hX8L6pajAsnDFHA5ztr5HN9Sh0FX1REgNDn7iAElsSRrmOn+7N8yLQJ7PFupcNUcz4EAAAAiAZ5hdEJ/Dd2/RbVUmS3c+Zkq2VqqADc3XGuFos1rOkoi9gAAAB4BnmNqQn8MZ19bwd89AAqdiEKo+unYPKTtG0kwBSUAAADLQZpoSahBaJlMCG///qeKoq9OVtxAEe+Jh4GuPmAhsN3DLbYZWp62BKT8UM91E1tlyZPGfjT+1TFwwHFBQuX3QifPISzcxfnu2KavZxiKnp1L6CXpyjRTwb/iv/ymdwLaqD97cQRCWnzfJQQj6AAAAwA4t5aX5fOGFYnRpz8PUlMIXTPUXC588tnTigPZt7XmDOk8T77taldbe9Ac+aRxRkIsnJ6F7yaAwnu8sCYXk4bA+hdPvQrPiAUmQtQcenggkNPwkTKUHqack4EAAABYQZ6GRREsK/8KhRCgry2xYAouIDqzjwW990xYRy0MsUF5hdKsSaT+E4kWJeYrhmNaiqwja5FixxnJ9I/g5s/0AGlveR9YrcA/cPhLNLmt7GdE3C2TxHjQgQAAADEBnqV0Qn8MfueupSEGqtVEwsbdqyXOqEfztvDdHWABJfJDtsWAk7Jn24RS5af1PAz5AAAAPAGep2pCfwxnXbq4/vXsaR4xCHNETDq7l3vJd03QuxUVaRvsCXEh/QAaUqmUPeViyTm8sahoXY62oK4MqAAAAPlBmqxJqEFsmUwIb//+p4t3NajLOQ+FXCc3nVHnDH5Qv5r7AFFv8S/zPnSKJkEe82/4Een1ucJL3MPAXFIOldvDLBZqrJm3WqZFGuksy9YbkTYkm4o6YC7qDJgOgco4KJuP0XV/mHXgAABOQrS2pnWzfM1TxgpMi9539AAF3j8LTARWaxG2N3W3JFM/YRnFTOEGuC1IEzw63fyAsvWvUoVQR4eW1MrJ7dqQosnxmf+yP0O3zijOOsN33bVM+XBS9SwbBDSXrrh854v3xUmTMl3/WMB3vwI/AQU+mXcYSVNuNlEp4RR3cdHNM5KXrx3KaMiODesmkmtoFtAAAABPQZ7KRRUsK/8Ki9ExaNiiIARfVjw0W3ehduD3n3iJxAztcGs9NiVfht/D5FKSXy1/5I9FrEANLxensk4Fw86Wjf1KMqV4TsfH7TnI3/VjuwAAAC8Bnul0Qn8MagMzX9ZtHNw+0ZETWqUjpnWuiuWK2LACQ567zL8DRppGgzGDQ1LGpAAAADYBnutqQn8LLjlA2tPrr59BnVqCzV/0+gekqRY3SbzcAS23qjmpxstECT+RMBRCoGMcQbJKDBgAAAFxQZrwSahBbJlMCG///qeI1xdQwfV3MhR+3ungBK16C2ju8nA43dCQaVvP6fZhPZXjUP3K5cmEQCQHWsxeL839jqhomTnb5+F0NuJ0jiBzLXxWyOEf6XqTF3KezoS8qFgO2ebmoAsRAEzI0Kq/RBmj4T82yQVEdoNVXFlin12SlNdukinOgQd80bx3OTxyNOL/KxsMuq0EskoSm5adg6hy3zaah6W8+K+9Dy4Je0M+Nl6cAsHaLyzp48ks/MUifcTxRAiexWc6Z3BWtt0k8+M7r4LpIpdV5p41VqTrhYpJRoYFAA0IuiHosCWhhRdvzUJ4JGKJ0Zv9Kh7RgCAXrHns07zbl6UgXSCLW5Tbhn+92VQaz0hy9ZRJbrV78QTFpfz421Az5iapiRXexa8d3xXy0dUEL4iFGxA1JBRiueyUwpcR2r40Edm1jHZ+Z+3uEZuJD7mySZRbN7HjCjirGKhNnqzYC3kz20wwrmep1DPDIhsxAAAAikGfDkUVLCv/CVFaCSmerqg1Z0AHDWnvFE6CuTfghgmlpI8aXTcRw+4B892r4BwmDYJIHh0ov7vS+FouWRSCUzErNo+SWRom8QmOFM1HdxBMkHNV7/AxS3+k+y1BLJutZ9HqEL8Jr2ugKly3hvOg/zexeBC7AsvMZooMGwxEZZpYonSaA78EP/SKmQAAADwBny10Qn8KpxAUvMg5CDGS+fj7Ku03MUkAJPgJkBFSybFkBAw7OTS3doYN/pwArLz8FwJQ0ChbIea/hlUAAABXAZ8vakJ/CzROx12ozfZGAudo7pZbRPskd9ZD+ykVPm3tQg3FMC3BGQvwIZCuX6Ag17b931ylOPgZxbDGL8CkjmDNY4rtnZWgvQ61YBAeKGyIDz9ph8JWAAABVkGbM0moQWyZTAhv//6nhz2cgjhDT1uIAWvRxwsecAWLyNff+rC/T6kiHI1MGvMsLf1GrWrCBKLmhekg/yAW1zl1UmcIsWJiIpesAYaREasNj/xaJRjDqi120P2u7C57mh+uJ7WCQnSKHD8E9mmpnwuNFOXNXVI2zE3rjve7aqfnteX/USuTVF8pQ1ls7RYQys/YjSe4vOqbvIC+y6fhM0u5gm5DrJtwwcxSTxScTz5dXn+Yl6O5wgz28tRXOSHe+UMA7uJoi5GTofrVCUCtg9A6wHuJ5EFdZ2rWP6AEDq/a5WQh4H2y1mMkvwZrbnVQh+oPPkDNQeYc7tihGnTflpK9Obs62FtBl5MZjLvCrWE8G2kNbCci8UhS5b5xDMFPcaE4k9EndCjRWLnVAvbuVj+xZJbgFzNgEzZ9X9Ves3dh110sUKjluM9mBwqngFc8SOw8BJ4mYAAAAHlBn1FFFSwr/whuFgpfDUFussEQyJZR77m03IEK9VNmNWCxGAXzl030w8AALJuCgWwUM8a7lvdm/OJuZkcBBt24pP95SPYgquPBbpCxZXkLv705cihn79+5tt+ZDewuio1UNBzE0zkwI40H+AsRka681dREL2I3QLuBAAAAiAGfcmpCfwnsAKRXDBvX2YTXioBzaKP80Lx6ADzFIR42UrSGxDSvJ1PMV/9sk+Rl1nvoG0dbb9pZynz99DOcQKKcPvnpCCl0Ynqm+r7bn/iToqZO23s3cxQ7FNCIN9J5Uso/jJCQ0dej9uJKqm5og7tTjHgcxSxcI1PnaAAB/Ucql5i5AWRsSsAAAAF8QZt3SahBbJlMCG///qeHVCf8RH6ITfaDP3VT03H0w2ABxggdVJMkZ0tRfOAzNxowWaTMqmhODc9PIMnoJnsao4oeaIC/gTtOTxGeDTwymvHt6ptWh/Zmik8KE/grYUibK+0wWaB1NUDtKRY4/cZi7j0SYY52rVk/xNmOetNRfO5DwEL+MqYzs3Zen6wFYzbBK2R8CmVzyRYFLjpHE5Vi3gH22fKrI8TKoiUeXZF4jn8FxXcCisdckfyIZgVPIAB+YTNx6pRMij1u4hy9D1saPokE0i2edxvTHlMrQbPzYy08uWxX6nEnw/QTopWgiqjXRnJ6Ytq1UPzMiJ5B30+mdfqbqfz0Am3lWvzb/kp9J8aF38c4Jz8WFADUlkGnvIoCePT5o54YS99X2GYDPNOKjJqGhrSlN7PbvT1bMRzf4xvgRwIipqXTA1aNODG54ezUx9Xz9ysUcJs4tpkJaMTuiO5YCIgC6Rz7x11U7cMX1v++7GnglrYAM70YwlYAAADFQZ+VRRUsK/8IjQK3/2cDHySkOmpHDUlxiG8AG9DepWlFVnMLGcB993TSnsjDDDQnhdHhLah5b+Jaxx9RSpqEjLdi0oHEFqIIJ4r99bWNP7Aq3AG6Is+VQKoWrM59VLK9HPsv8sKy4NVfBcmxq3J2f/rJaenkDzo5uOhouuP7w44pqBnFR25gOYVjLpfN7zvGvn6p2PEyKEUJgR93/D9JXjT6Jo9bkM1zyMf01YJ1XwQbQbzPLa+tt7KkZp8UkT9h0/edFlEAAACIAZ+0dEJ/Ci29Bpheqtb9gdy/dOGtxnLMrbPToyQAeTRg/TRqKCWCKkA9AV6C0VLJHWwmmZtlkzDd0lEWJcojmNPF76sfelrqO7i2bKxPSf75ZUHsC7UfyBPDGhNvws1lBX3yjOK9APSunL0OAfJTRDP/ZOmcY+I8FZHhCRCmgKbBtqhH7ncFBAAAAJIBn7ZqQn8BzRRvaFDh4CCqFSba7WywHkMvhcx2bzw08/roimcHcjMkAaJ6ZtCv6/1eIfdUgd6X/xvlAdjd0WkbroZLFX5ayWLtLM7/KywvFgtCoxN6TfeHBy9S7C5NDe5LUGZ7T1sqrkASXOGSsTC7YQUYkPEAnX9pZgk26tVm/gzkcSGzhg3x0YqiPk7m978M+QAAARZBm7pJqEFsmUwIb//+p4QCBS6bi+NgCj/SXC/lmt+gd825022kXWsDwRHYHR8DyTpDiiQrkLnPeBseynFu3fh4uyfme7wSSkPzPQVFo1oUDrQb8nsq2ogjFLOw+JgbAZyv/rcThXnHoMW/LzorhPL4b3NAcJs92UlpWQyyLkSVOhiqdVUStbifkkJUyna99pbfPSobZwC/DEfhSnYgoqrxTP05y2gZu/CtUFQG7XnHf7RfvKiAetM1WVMWSiMr7zK9eNtxYvl57qiNN7j+stIXZvgBcV2Z/1iXAPNDsOZ3CtpEow0ejtgeNz1hIqbV+sUeTrFJPaTX+djPrBrVDWmRVm8bRUHYoCT2YCJqNZanUzgY/ocTgQAAAIZBn9hFFSwr/wFobcDd79dcEe+tEHjE78PLOvH8864D/1qaLQALhmexF9cx2AEph1jBplure6R6LbcmyVmvtn5cUpqb7eQYC5tN/qoedfHtOalXY7vGOqN85smiWMUSol2sIJ1S0rjBboBKkET9RQ2FNWTa8veW9AhKIHS5u3lDghFR+TYBZQAAAJMBn/lqQn8Bzm28K7qopKcQJBly3VtQFrjXbPHSMHQiCul4UObW+PqQAJ27hZo6Xyt8MHzC8JQeCZ3/wdQH6TMPrZdLVhG3KyxOhdgZ19FzR4OoiWL8o8vXJm1muVc56m6VOmqrnaOAenpH2s6aPjifBV5/gW2CCNH+O9fRhTcVrZUAImFrFBcGC5rzHLtiCzGZgg8AAAC0QZv+SahBbJlMCG///qeEAgum9o5vKHUzvJ0aCEUB/Fg9dHBs93k+opABbTt4V+XwN4LTbi3STAR1Yw8ZU+cjH+hxBp1gqIioP8rYKJIP2QZqm/DaptGrSaQ1JP3arbFZdY78JAelW8E7x6lIm9G5Kd4Skro/x+zCj++sXo70dM64h/Zlm3lKdBLaheDUJjsL6WOSMPpu2/aZx6cS3/yS9lO8icBctjxvy0Ej+wxO3KWuzgGNAAAAq0GeHEUVLCv/AWxoe/3LywtsO9iO4eRZBx+hJjIxAAWI/CNG7sXQkHLqbSf6rTWBMmeb4Av1uwrrUh3Wr6d3N3kd+oeiYMUXcs5mSG3ZCQ6CLwL3Qmi3KbDSBuQ7mJ1FzvCsTwnCQv5y6sEgbTlPHn/08X6e3V7BjZeWw3lByuvfjEEfUE6s/bvGSTSnUZV00ndVu7aQ7d0zuKaZ+GmIkJpAXVj6mSOYsABDwQAAAH0Bnjt0Qn8BzdfCG8XdrNU2/4RP/UqKk+QxLZE+6mvaeCvJfoJlJB7WGCDthdvGcANrJDHf/1FewDEgpwaXHriLkjF9Q0vYURGbqu3hRxEC6wCyuqPY8VjOIVx69Gf+dwLCnG/cjK69ja/dUHHgI/u4JAA2uxKAH/mq/dxgQQAAAKQBnj1qQn8BwwkygZWTJWfqqO0UwcnfWAAmdLFamK+dUk+mKxjPMb9Exd77UP19Wujj0tzAlLrPiHsFmoykKU0b1Du5aBMwih+H/XsvFMsymdo+5jHx+BcbHadJ0T9AWhC+5Og8L0FgA8fzLKY1IUVVmZHmuTWQZEg8IoRXJ1CpUpEPUd+TzLbCtjOEjBKeaYN65gyYX3RZEhDmU6TYWAq/hhikgAAAAPxBmiJJqEFsmUwIb//+p4QAouIrBQ+yAIfqfrnePllLojEpecZ5M8xmH88uqc0YJeYqgShTj4UP3tyDYGddp9DLHibq1IaYA2DQM6rnZBe6hIvCs5BRU9Vp4mmxBoRCqZ/TCHxzxAwb5lJoyPgWaR3AMu3jjcV0XVxRHp26xtT7+jMM+z3MweJlIyR9qcn+6zSZ5DZWMuxNKqtx+lbBiZyQkLEh+RoV2Ttbxc8V06a6JaRIIMiKfPBjQqzC4872kMxD3zmif4nQg9guIFtpu+g+4t7xD+UXALYpZV9NxBBeEo2SC/mCdJ+looCpbG0lDw3oTy87zR4+Cd4A2YAAAACeQZ5ARRUsK/8AiwaBueP8aUyLTdXbfHQvXiACVAaKacLmypm+KW9qr+mzf1ZRUAGMGYj79SNZzmIWUkHTdPa3E9e9RLrxEb94ghXXLOdvsxxjkoO0XeZcR0srmov/BBXI7C/YaKFa+4Ch+AZihcUOshx+m4VEsySNeAMacBxl6J6M2dxJkNfHMi3Ph1C9necAQUZZCgukYqB3MhpQwIEAAACTAZ5/dEJ/AKzhl4TmcYjb8QsEZfzRz/V6kC90BI07j1te6WU2ziU9NHHJ32KrLQ6MTi2TLAbTC2zcUH3D8/BYI8UMTQM3jcLEblstOtwVMf6FBNT+q0gv2b3P6VKTqB+XIquJENYLxd+xwWhyjNw5dMh1QvlYdlIt6+GzjR3bJ9zHzCiqSHa+XWWoD17LLM0Dyx6QAAAAgAGeYWpCfwCs10XB0MtGKYnNeZkIVhmwAATs3LpKLOCoR33n19cK1/KDR0aakkOWC0Fy6/iw9xu47ixl/g1zUSthB0RhDBWcN5vu+LHA/CxRPqaWP/hDQjdiWpQ5sONiL3ukbGaiiOBOlAmWznWzRiIzl5FpcNW15/kGh0Gkr8ZVAAABGUGaZkmoQWyZTAhn//6eEAJ903o9EvyzpCcARrW4PNB43gDQrMSJ9Ykg94P5t/SjcKrsg7/3S8IiDamYs+dgwxYb3C68rUl2odcwkGBG1Wr+1dwZlENnizKiK2ZrAcRpGZaC64vgJbWzrswS/7cMDlWhzi0NRasyWtz0YjmSCA4zwwOr6R/kA81yvq4N2zkEKUEYIbsqicjiuNjSC307rTsJZQIcALPePlq5IKunpFs7ddyV5x94StTT7+n66uz4HlH67zP+suZgdx0kycUX4wBy2T7BgAWhnbcA8dU34W0RUbpWyV+kN4fgZf2UsZJPB19Iyyt9X6wMOxVhWk7wnS4HVGflfBPAZhbmwChSz2f4ZuU7sn5qQBvwAAAAmUGehEUVLCv/AIsGgbnMnHP/Bovc1r2km57QI2CzoiqgFG2kOGgQVwAjxaR+XH4spo+PH9XHjsV+hs0fKSdSxdpV4IfM6H6hq/0UthL6LCjcpy4fO0YbBK9VCfLLF3nX+jzbnKRWmC1FrZB/z7CDWA5KBFpmsB950V608Fi9W+4RhALZ0UB2Irvj8VdqzvD6oD7yrtKzy4ODMwAAAIYBnqN0Qn8ArOGXhTa2TFZTdEEYyXOOiaOB3H/sxMuLbXPCgXX99QAeypYlz7de+S3mDrrih7PkagMGS6NcE7oux4nmgjV7FQAlGXnm8z7z/MxDqAm3U9ha5vWJK/3cA/paHFq370XkNadq+THaZxzpkGyBUwydnvm3SKH6iBIzbmbktR5KwQAAAIkBnqVqQn8ArLJh72F1iv6mq0PxbLPgV7UAC10+/qnt7nVjU/dZw8nTSBVv6jvHcJGr5M66nJfmD5FdZpz4zGi3CG51p32YSyLB8f4xqzu3qjRYoisdFJLIzphyz0H6hrcojBEXoMuPh0iEJYuT+nX5wACrP7GjO5opt14eFyD5QYwp8dySsaDKgQAAAQVBmqpJqEFsmUwIV//+OEADo7/zXdQOPSwGO5rcioXhLLJm7eJLx+hk1ZV0MheCZgYnIAt+GBFvrJgyCBl3gc3s71wfgXjHk8XxbYiEfGu8Xfjw+GHSNxvnrbeDm+H3+YSUeQ3LnGGuNYkyalnQGD/5bzY5lO6yHvuEpG+96xcQXekfRTEJWqxKpqkL0vI0e+yf7dP69CVyd9dXpMmc26aIrzvU/65WKmGWIaGA+TEUBtp1S4WGmkutHq2ee1tZr30E0e+r2HroBP7guDEX0h0NiwQM5RhnFKsWr4F72+FnXvUi/H0W5azqlLosJsrkc+pSxn2jHJZMSFvs7W6HZ6vfCIvUA3sAAADAQZ7IRRUsK/8AiwZmT7fW5Z5E+KEvh8/zaiB/gBf69TAQ/S/S+QFT29cqXHRDgQ7P3jYVwj3qyLSh4tD86NzvtBtwwrYn5MPKjeWpkKyo5CmBQn3YyTuq0GoBwB+yKOV7rmpsoBoA8W3xjQxkXj2cRDc+yPBGxSxlq0EIl7Y3co87Rkil5eDpFkJ6P204k3N2MXhQd4m7zNPvjvE9AIhiwe7zEFFU122req3NHSb2oNOuhC9tRtFJqfa5dU4PGMRcAAAApwGe53RCfwA/kIBFaxLn+sOQ18IxFcDFeiABFXuYTJW68vGUHp+3Hr05GpMJEq5UO6QhxR465owkM5hXGAc7sTRvJmeVNg9JR7vE7Y7ePr0d7ORg5Dtnnavl/P5woXUQIJ22ZT7PLOWDad1P572JuryQcPaRin3VeZDIpSy0eUXkGo/WYJlvhutUBJ5kzwpRCKobinHdh7q8qTacS2uYhLvlNmTq+qKCAAAArwGe6WpCfwA/gKOzu1/18Ph5AQrdZBh3AFaHDoG0RLYueozWMLYwULbK7UjyBYrCdjv0RoGMjKqdIdQ2qp/t7TpZGBybQOwruu3bykQLSF3iEuTx/t2MfjMj9fDgc61go988zUxxsva3k9bwek4SedvJSO5kmvV6Np+Nm7P4RWafuBvSS7u+KPx5ZeuhD8lWf2YpQrJeNaRMnUFCEZ6NVKZI9PRMhvCSEsXBNmJ4g4EAAAD8QZruSahBbJlMCG///qeEADucJ5ksQGxmJhnU9ORX+bqXU0Xw3MABWU3S9Nq/i5HZyZVk7IIwVCYcV9egbXJxpxhw7iOaB3B9Su2Vq3tqFqWv4MQRaJ4Vls6eTxJChVffm6nGbIg357/EsI1bqTgCyQMtnsTsmd18+UJdxGvdKBgu4iT7BngkzKtzwjEn3BWvs9yejgvw3PYeMG0kblAg0Av+7TeVM9j+gExacfDp8T7ukN2fZ3TDGs+E/yTgyO3R1PkolfN0FETG10mEcEA7KYJBI/uYv44HN9G0+PFTK+zKZce19qH0jkBy7UTt/HKHqnTzT0jRFP0tAALuAAAA2EGfDEUVLCv/AIsGZj9j+h4Xq5Wb+bsxzeX2iEZ3YancDjvnoAh7+1RPQM167GKKnO12m8L8qAKzBRnYQc2QGe0VKsjlYelUXYAfqFzs/z2sofIPuz0+n4NKNWZZrYvXaDAWQlcUewrffY+aHKWcpP0vjuky9NVlPwwt745dzjDD6KB1sUAU0tWiSPOo3R3W8kLGzJ6ukh6dRMpegKwEe9sz9nB0F+FYg2TbxmvFumZjeClKyJ5zQy7/vT3MYESTglA2epPvX7KK/q0N8IhA2Jcgl5unXscKuAAAAKkBnyt0Qn8APjCARdfXmfpIPxEG1F33U3/GAAnbyvzf0F5iw8iRwmMz2EdVX8u1YqUjmYsESy5fAhdx3VUtLuXDVQY+sO7L02hhdpNxsFOVMNhoi6m6bPfj8culNCReTGO8WQMathBsxa2iwT8R0dMMIR9kkRy1gWbgeq+zsoAOyO7DCRSzKPCublVTjhV2MpLW8MX8A/akP3YbO87mgoAf3G+Nh+VJ+JZRAAAA0AGfLWpCfwA+IVWTlYhwsRqN9Nq/QPGgCEeVvTC021MJrygqcld5hqc12sqLDnMPGKOLt/TqijUHIQENCyUFgDVGC6xv/uAHQi3gOi3lLSi70z/uN3HcWOh865oxu8L2/TsiurM8B5c2vvEzvX2leNSyzGaS++cTRkxSDb+7/2FSDIbwajaax02ZNsgkf2hg+3gsk1BcQFWSXU4m6UAxOTtud/BToLGpQLLc1jyvAvKYVJD6dQjC/nD8iiqZGp6d2KfMhLNiw9Yjmpx7FoYWo6cAAAD1QZsySahBbJlMCG///qeEABawBIQ/ZYHMWqu0R0Ug7a1ux0MfMvOT+rP2HdZz/ZDAikiCXo9mNkjAr4OKbXs/6xl0zEbC/AjNdCb3zFE0yEhaeOmwLXO9X4L+NV+SFG4+LB0hVZd0/Yd4ap2lRmJAOnuiUwj2af9qFoXbFfNFFH//qBnlFeRc9J4P7uud4UK5gDC83voqgQS0mHFmgqGHSaP2JPc+Q19E3iM/vGCYuPrM0LS7iuTGmCsvnC07YGin8nCU7uo7pBxJT/Y6DHMUWAOOEmMTvu8HSPPZmxI3SE5QwJ1h3JpkQj649aGbrCExfV4AQcEAAADUQZ9QRRUsK/8AiwZl0roh5goeBSMCDO+U91dVzn1bbVYC2B53q7+KEjwQBCOGNrhmprFHgJc4a6Z88h1mTehDmXkoeS5IqXgHnS+GpbpR5C/6qGCZwBSt6DiyCcfa0HBYc0qzp+hq6pMPe61xBrQRRumtLS8IrTp2NOItLsQZOo/nMdOxa2efiqAG99WFr9KVrL8Kb0j4MDUtLsqXrRLme52w0GXcVwKlRzyDx8xOIP7biqhmFWe90SZXBWM9j5t+TijFYvGPXzM4oAKbzOBPor8AMaAAAACWAZ9vdEJ/ABfjnoM/so4wpdSiMRlFXKajfQhIG4NLVVgCt+Va896uRbR6NCdUnl3LV63CDVx1WxOj84qvCs3OXw4b6xtxdJ3XsdqeN1ufkSvIyAVupGgsS14rkIi8ImN2oqVjRfum4pHrC/RjPLpxO870DbXrCNzHfdI3wkkINq9xMDk5CNsWK32xcljHD+FwJAMGyN6AAAAAnwGfcWpCfwAX39yYhSyeRScIBeNS925OohC5YFaFVaIAacRa06BJMaFev4xACZXgwpL6cdfZj3wGYPQzi+Z3zjhZziJbPjRhQOfcTMhF7+CUPK3GuGrmMzP8adXG5pDFyXY8KkKUZbgoky48Qf0s21OzZqvtrbKgxgvEnU3VsjcQDi7lgQ5k2j8dNeIrcyT1JbnGJIbh+ihdKAaEwaOxswAAAM9Bm3ZJqEFsmUwIb//+p4QAFs5l2jm8oeho2W69eGXX2cVLEcAAXFxTOkbOUWIAAKKagqOj3q3Z8Mg8+XdZNEMl8C3FSWeHY1py/IaLzoH1Z5tygaXrAaSe7rLp6GKNl8Q9ylXKYjCzl2HDmWDnMVEqRiZgLXyxI56FeT5rbf+asaZQCMRtzUTrh3J8E3BbKw6/t5tCjF40UoZWVVAS0SZPVXmFdFI8Bc7RhuwvBa55A5ooejQOsVBtMOUSHHkF3lI+2B857XzbOtxXRqcAEvAAAACwQZ+URRUsK/8AiwZl0roh1NXl6et7c17E5g+VYAJRu/7ZpFRT5ldLZfYPc1JvL4qoapN6P+5hP4k4OJRJcTirFEmDIgn+Jkf3XdpHUSLcCyrx7pUNF9pd2rsF5fp5GqbAh85QRkFxwF3rO4mayREZFOg+OfEvnO9RORCu9OeHt1YYZVhmjQjRnCNhFwL3Y85ePgrvlMGcAKdOoIovYRzJOytkw3C8l8n9dNtqfLoAPaAAAAB5AZ+zdEJ/ABffI8W5RNpN/aDB6UYAbriJQX6l9FAfGG5MLqPDlywlAMx99iG2z/h9dXCgub6f3004wcGzaE0dYKIMC3TGZmgzWYlNzqT4eCm/yhFtni8wazC6sNM2od1tZWG427X7Lm+daP4faLJ9S/nUhDRZsuzK+QAAAJcBn7VqQn8AF0Zogu/8qmvf4NpE6/zcDAhPBsx9+T/7c7LQAP0dSd6FvbTQlsGhiKJ/7veoHivaAAdA5bLxiBbOyVPBxV1LjVQwRX8Hfm0+jePkxeHAkXcQo4LfvUgFlX7K1LmeKLLQJvIhZatEVszbnmtfdBAa+KPpN+IsIkN32a8fqH2ElX6MVCpOlcDI1pZXio9ORKGAAAAA/0GbukmoQWyZTAhn//6eEAAfs5vS6d4IrKLnwwM4kW6hdNsYTgWu49dAfbb+n/NUgiUTXxDCuuRtYMdrPpZXzUG32UmJg2H2v6efRrZ5G/mW9MDNl6vtoHgwl/PnOLR6Qchh1ZvgpnnhNT/NZR1mGJGfrbGGJKrSnm/8b6WfrI76cyqzGuVxGwbHn+ygR+ZkcuERZ4HkMhnL8fgX8CqwrUFLcoqVusyfGv4vnOYKzxkLci9mYh0eaupbMTJ1w5DMojkfVWf2noxHonrDr8JrwQ4r0wS8LFUEq5tn3vnMxNZW9+YJA9fV3kmcJVX8NdT456tgI3a96POcKTF7xdwS8QAAAJ1Bn9hFFSwr/wCLBmXSug6qmi97zB4gUEQAS1aOLhbMl/h4bugZ2NqzGc2A5s9E1DmwxhoKH0YxDs517ZcSeDuBK0N1CNrjzUtLPOhXJ1HkTB7I05iuS/yD+aLt8xvriyMdnKG/VuAoeh1cnsFjHmG4KgwpxnM0/51wBMccpXKuxWUEn0G+luRUDgUzBVwZw4WU9wYU1HOk4rWJwAcdAAAAdgGf93RCfwAIpyJ4+iYoOgA/UdtAOT2ImksS+YvqzwjkiCNfKKJfneVzX5uizIQFGKoz9R1xS9MeLhjfUE+R3VMDM68nE/66EJL3gV4Qg9+YDkohGEKGUFIcVrSDoZXbMnYAAoj4VO/LdVnUgLxO4mqPpNH5KCAAAACvAZ/5akJ/AAirboYn7i7lwswjocRxmp0D8m/4ABOGa6WjIc7ZHCePsXj4tXrOju4H212GPtcM0cN4f3KWs7B5Yh6g2fRsxfAJZLUhA9FsNLnQzjjXUQBJtCU1tcxGvOIGdQIjkM+5WOoVtzLkgG12Vz4VXNGVNynTTwylJ2S5ifHP8/RPSYDykJDyrBuKhHpuQ9Yowyoa9FR0GEsyRp020HNufgmawVCVrisNMNDKgQAAASdBm/5JqEFsmUwIV//+OEAAfL1IlrXzc1GxVwnoyhnrqbb9iNF0GJVX/owFN+pDugveTUw7mNGtVQf3TRTyWmtSQ2aVnI7Z9BmGeQivUJxXiqHKCHlsnMNKkabFySmmC7TcXpiJrGAVZHaYJAhgvCGLnpDMlf5rQVoCDscWPIpgzVc0vr/JnP9Y72q6C+zBpoG9bWB+uQ6kpcz1VVYT41M9+LC1DiwG/OxKBOrtsvdLPxpLPid+nJhQXac4gHI0HVHmYzSqvwYYlrnt7CiYwOusiUid50RSKzlju+qXC/nyMeT10HYEVcF4LZAlqCXyc533/8fuuqeVA/1gaiKwLcsnEH7Lq6uTle9DzEdONhJH5E15xnRLtgEwdqB97a5FyicpKZOzwBNwAAAAqkGeHEUVLCv/AIsGZdK6Dq6aMyxmy97+dvToUr9cAAnEBpRpkVWepFcP4mTKRUOGz+LNr0PMHc3/TRzwHBakmelAbKJvTQpKyo1n1xqsD5X29Y+ThR4VAHqCuo/UFJeH/wQ9gKn688pXQYWVOTPBEpR59vdCTmasLptGyqqRzdyfgCQtfbgQuAVqieHQ6ZMG3BZXNvlpDgJqW8mt3mHqRntgq4yrePq7AB3RAAAAvAGeO3RCfwAIq0nlyovZYCAEnkUsGEHcN4lNfcUje305yqLAzjwAhyybA9BHpEnten3GBirJ55uDApcS6SsepbUQS5nGM8V0IpGFOTR+iFTdfIn8iVh/14uFJqIM/Jz2Khs/NwGk0UG8TIxLOBBgJJSIUv24ioedpRHOsTe9aVX/sEdpSALeF6WR528aAhU6vpg4zi0VUEk9OVfWFjfSmMAGZwp3klOqHCdOhW0LvsoB8AuVBbeugmBcFD/BAAAA6AGePWpCfwADTNpHNR+UGfGeiJmMf+gmluumubbjg2IQmAHE94sN5r1v2Vx15N6eyFGe9Af6FmVkwDwKlfXCE9GD362n4R/zzfcTdXTXmvmqeUa0QIkrMJxBlHrgG9WWjlcuRcYGxKuWKC3QzsrpwvrfM8fEK6R0R7aKJLvpX1Q+7IacxAUsLfV0WKB3n8Eb8nOXNinuTinnh4wGoEQQSry10pAh0QkEJvbMQ8yj3EKlxtogN2X/yDhLWKPc4SsM0ySW5E3uUv7d4xoRCOSOe/VV1JHLb6VCYCkRXPw9womDL5LQlRV8AeEAAADFQZohSahBbJlMCGf//p4QAAv/9H0YrhJGvvJOAEdfXUJ/fwR8pYshDI3p21cJgS/q0+PgMNnX9VShmJQiU/mdSN97yxEvUoO8YuSYAPjIMMMZeicAnXZFmTtJQ2+Oip1599VCRx7VMqAkw81HAmINg4yaCz1wciq1O2VQ9FyV/BN0EvXu9h+T/0RPHIXGnWY/iTO8OXU71Zpxy9FwSL/68O+33hf/7noaL7U7GhU+F0p9uGfp1JKSaBSpk981kQyNgpigZ8AAAAC8QZ5fRRUsJ/8Atfm/bV5p/UKsP0F6ydN2/MRozVABF6rol4dPK105i/jHxwat+Jws7Ws8xSZFH6HMBEP775QYy9hGhj4UUFHNFNRyuJkV7/yfC1zgyGMyf6wyxzX6AiDLEHUkI6+icg1kLg9mXiQ2u7tbw4UE5NXQH2DoU8pp30bnHF7x0mflLQYXjAOK1PVISF6Fk6Yux+DCiGx18FN1cWgCwxhUvGW2lh9NicFUUSod/tiw4oiRkwbc4vcAAACWAZ5gakJ/AAM5bkHZqS1/y5etFskayIM1hABNLTVKuzzTv0hi4y9FGsHg47Y++8F+HpTLAQDg9zyMhnKINSDL778FyHnq8TEuHpPRVwk1jxGYZCTorYVvBi9COQCa2u0/ml59crSVZemuurYRUQtBUZzInzDWBFH/oWytkfczyIDa1yPBBmEfyv9jWQnP3Fp3ucAiopBwAAAA10GaY0moQWyZTBRMM//+nhAABHksOOIN9vKp3TH/ycTIKGtsEHnPt2IIpI2BeABaJ8JmjaLbv6izQ22704HoygIO3aOnQj/lxOuLoF7fmF0Mfn29wW+g88N2ctA+9bg6/Y6ExPiHzaimPv4Yr6OfNRhL3uOyd5Zkd28IA3KN3I9zcwx+GA8s322wtc11kxb/1LOF7N/uCXGOXJful1kymRyjtqdqGotPq/v827e63N1PY0xJkfH/jSHZeuescpXqIhb86Kqn4/PyQlulPedPgX6rM2XOobKhAAAAcgGegmpCfwC1+b9TYbLuXUHQQYCAM192jK6UsABbQN7162CWdSJ1gww9qob3nm+awW84YO0w/376MJKMZst4F7snPaUkxTNCwW9ChUDoOE2F9tIoM6QSoYAYckjEsUc+loo5hyQokUkQmk1Cf9iYof4akAAAAM5BmoZJ4QpSZTAhn/6eEAAEe/amyG9GF/3tOZExVmXnWh+Itu4ygpLZTkTJonoaKcvWDCdtSxmZmlc6BDQ7tdpjn/XuZRia+FIdDcjy8q8ra0+giykEL3Fccn/+af/XOcsKqFy+cDQjDhK4+yBCNpzsLiVjW5I5iTHomNsQY1bd/ny8fQRIVT5BjO9x8mFM+9a1LcGWnh6aH4Dh1QO3pFQp4BaF4V4VQzWUQOy7rV+XXwnH+zzSZWprmYQuw17Yob6TPmEiv0OoUFE3xjWBHwAAAGtBnqRFNEwr/wCK+sSTCTHNyyUfFCwmqByfu7IPW9AHJcQhAB8gQf7tpZdmTQ0lrWLdXLaheNXdIFVav4n0p5hiRtVoQwziX/fI5GWWlYunHgDFvexFW1DI9KCGtvXbii8/fP74dlYHIIuhZQAAAE0BnsVqQn8AAWK4o/jLX9gzEAP5UY06+ulPPG5K+nh9sxc1aLmtQAk+9EgCCiZoZ6uofOM2Z+chN9h/xFU+xE5uykiR5BWan/o6IOABbQAAALFBmshJqEFomUwU8M/+nhAABFum5Zer8306VdEgE7mnAOTNKSB5vBJEDZDfWdEbih/JMnxY1P7yfBL1ib2jW+8IXRPe8nWPlmhw8onQ92kpFmy8nGjay0fwm5Q1s3yI231K1Kyag2odGRlL8bBImG95NG0Rx/UAxJJcH6/U2+00l6Az6nBnYbeUYbizmoCKjjacrYeZLgp+RAafsCCd7hLdLgviSK8QGQwmZN8fwKPQpIEAAABPAZ7nakJ/ALX5v1Nhsh8CU9npMe2Z/jsTSiG1nZdrzk8TA8Rg4Y5dmQ4nQDqYOhZ9Ba8LnQ4UAJLm1bj9+yIT91OZWtGga0f28PA1ENkEXAAAAL1BmulJ4QpSZTAhn/6eEAABseE57lWOJ8TR4AODAuimFfm6i3wPquxYAjJXymkAc/WmReBYkW0BQ5YJLKBJN2W//kFIJQZjczIstJ6O+I4xKuYSDvCNV+o2xAj9mkBXhavhxV2sOiv3rt6P+f0ZrgmqCEGLMdI1GkerQj65gBt+xTPU51K2dK60pMhYPcVOxJcDyC/exOxaS6EFnbkLGc5bfpvrwLljRoPQ/Xq2hA3MT08I5LLcjxiBl1XgIGAAAACUQZsNSeEOiZTAhf/+jLAAAarhOmu+e+EVHgn1CV1CkyAIuMgdMaNj1c2KQrTEy4ALUAt/3BTc2aec87XQrpIdfoaaEAqDgRBRUzKenGu9bN4ymQjUqxMaPRcsfoB1TTTfkVKnNT808k1+it/Z9r5KNEX4pVeBJM1v29eJ60Lv3GC5QBwDm29gkRZCc4Ma1EphZTwIGQAAAHpBnytFETwr/wCK+sSTCTHNyqBcTkoPtcKWiAik/2hSDs//Iv4pr+b60B1ePpOiGh/P37vqIAOIHElAMfmke1ISRZ5rUBSFiiKSn8F0k2jrxczEPFAOmMPntJXSoAmSwyRZ7Fs4Nfh9pr7+dTJm+wgbyjmh4i5aN5QMWAAAAFABn0p0Qn8AAWJGSY9PFcl3Iwoc8zctUKT/QAP1Dao6FhzRtFHCzd76bDz+LTFZxoF0rPK/Ryt3OwX5PRITGpVmn8/YrEvEyDZelxAR+IwOqAAAAEIBn0xqQn8AAWK39ZV1z42Yezm79e+mnD9k9O91sIy0S3iUg5eDtmRV4pRZyu2yoPNk3Jh8enkm3jXRAZo0l9o2j0kAAADlQZtRSahBaJlMCF///oywAAChcy5eG574RVbEn8bVY3XHjhKNYqbmdgAP56aYoNOzlmIMHsmOUUDWn/HZCMoY5arlI+HkEiux5n7TM0OpZKSkobCAbiu/iLh359HMquEduD73dnltfDkydGCT1p6csw4Xdve9TofMm3mKD8lnJK6tVGG0ndORDynq1TjcYIB8cjjZcEjabBoEj4G5e6jbDqiVKygGaQXqr/0aN3Z+MDIoEzKwjeGf8te96/74lDfSP4dk0jfdjqNuCb3WVzYTsFoicp66n20lgAIzUwwFgBwJMW1DPwAAAH1Bn29FESwr/wCLBmP/G6HdhdjI8fC1sWEXSKC9mNVhRcKKEAWXBkFua0OC6URGdoJ4N/guoASXDuWogfU3phufGLQVzzjiBSpgO5M+9i0ASHJRQgfl+x6D22mGxvgHZQFp/+vzUiBmmn9pMTLCOOUWK0FfsBh0Itwm+tmxxwAAAFkBn450Qn8AAWJGO/ILOPWv5sdFGfBMK8sAvkDjdgJra0czROgs8UoebDtEVMLgAN9XYbmTR5pG/rf6gKPBmYSYZ9WZlqecLxxxJVfQRia3d5Fdbt/tmRGEPAAAAG0Bn5BqQn8AAWK38aFNTXY5QfacRgO91X7M+vJxsACofaxKnamK2KJDBMYBIuiANCdi7WCnvxU7F54JQuEJiiQRvAo6uidDbcn3dqqPegQ4L8dbpxD60SnSzIUmgff+xWJxxOWX0zHWtP3iIAi4AAAAvkGblUmoQWyZTAhP//3xAAADAi3wDG8TxMgUf+DwRIZJoy1g2MwhI5zjX8geCv/RnkLx04t7UOWpsxzvg42ELz8jPnDQdi1Y2qszjwPUG/6n9GHJajsnUHXW6GIng3ejd/iyMmg5fXkxyvAuoNUoSVhd8GdzjPol7yeYJiogYF3GAhEtJwEA+RBtBP4qbncsTc7EodPp0coWyT2Pcohd51r1JOfDPCWCVkT31Sih+g4iMd1TqKIycdQPp+swMCEAAACrQZ+zRRUsK/8AiwZj/xuh3YXYyOGMO9/qC1REvGid7PlE4WMhG37rTfqcLD7Mpf+6gAWhFrl09NV2iMZgs7Sjo8TRkv786xqVNmlR0jiYaAt5FZ8Bd98f6Kb06syKZ0W6HIIHWV5Lqfsb67CxEeqvK9HbURDrgS4R4Ms89lCsspohMy6/sq6mFVfRIAKUPYWSVWX4Vtz2Cv/7qdyERjQTEz9ANhjQoMCxADmgAAAAZgGf0nRCfwABYkY3N7bfUJP9c68FfiVoGhoeW67aTfABc+BqMneyx62qyjqlQ33fuh2GaW/UXsDlN3Z1OnBpd+l20yYV0AV1CafwmUgfJ9dSB+ysekgXIW8fR8/UYQESPkadTXyDugAAAI4Bn9RqQn8AAWK38aFIPBl2Goc7jasjwhNADa1KWga02XSZ1zgiDUAQNrPnvgKi1WmIzv3YLxq3yHKSov4WSgsIq5Oyoj3NAhWFkqnP4tnugjN+joyxUWLvIaVYb9ISjB2Gxc2lNm+QNQhJErmNVohRjh9gN4yokWaax5cUTvtO0TGKiUvKxDSMYFPj8GfBAAAAuEGb1kmoQWyZTAhP//3xAAADANPv+1mNphhdwhuMIAcYe8Woq4oSYlx68+1NFE46hTv2p9TBAEmrJrEMpYF/kCkdBLnvo8k+aYDWwbWHirnRoexju2r8jCTWF399hDE9IBQ3PM/64AK771ErypRYtWGiEE79mAiAM+zGAPFVxeIK/D0MKtZKaYZn0OWny6fjczNdR5TpXamrtkrS0JGcxm4iXM021NyVxdvNitTJBBH1NlVioo6UKaAAAAC1QZv3SeEKUmUwIV/+OEAAAEu96fq1AF4JYFX3Qc87di7HBgpDPgImtCaq8KBpAYmDO5LHGm6vt/AKC0umgcjcrYTc70NQi0B3mOQmwAfEt7Rm02scIoJRNeJvY0Y0E6E/lwlHl399YuMl+7eOGs3Ya4b6aXCmIWkrk36oAp9yh8duTgdZrtVseQzTnpPVKAiO5oPXioWXPlGnstkBOYOMlB+5c8SVj4BxhGhREcUqRDp6kKOi2wAAAJ1BmhlJ4Q6JlMFNEwz//p4QAAAS74sTBstt93N+8HQuAm3//oKANUV5qY1lonNqCgWleD/BwDuiqL+SKm1XWv/91RUuntvaZkaaYxTRLOo3XdcyNx988mSSiyyqVGqung1YJG1FdlO0jctcCAkoTD+Caq86cD/OAPw8jUkiGKzdFRvPNnTrXa2VVaa4cgv3x3MqrN2c/o+noQQTIykhAAAAdAGeOGpCfwAABR2THeFbxwNAG3497ZM7hSz02/PBY4LhkYR6DR0DE0wFOmeaNwW172Fi2v+OTIagYeIPse1VtR/ueV7NgVlklzHDXt+2R7aLk7ebo7qixXjr7zHLI6t7pIDcZk45i24e5ccUlRk/00tgwpHdAAAAsUGaO0nhDyZTBTwv//6MsAAABqKs3O4TxQj43hzt0Tpobu4R5EXKC6QOTn9Wnx/4hC5Se4qnJhv1E/Vb+rRA7G99SpXr3hP18lPS9ZpNj/m2FOXzkFlCoFB4vQERoLErVihLVpeQ4oYu7S5OqX5GpV/v/XsCPgXNuaMOgY/JFd2txd94UndLhC5qp4SJ4WpXJnc5+T6m1GoT5YbSELinSjy4X7/fwKDiYtX8XDmYOdikDQAAAIYBnlpqQn8AAAS4XevIRkW0Hn+0xBot1Fi9POoAFsyY6a7v7lsxTDKGsmlavR6qzVYza1Te4wbVCdf2WP2lLpKFCpXKtj5hzxQg/Naf6gGdCjUx2Vlhue0866+pr6lQ5GlKaQjM5qGAXPX4WgwiWOW/0NMppFZZseqO4YlLpv1hcQ0WxmFGpAAAANJBml5J4Q8mUwIT//3xAAADABsfTcxgZcgCEcN3a+BFrI4+cukei+D/yZ0QyNI5r0WjDYdIusqIIVKUeicZOOh//heezofZAQ4HG2bgZFF4YlclsLsi3Fb4FUvQ6B1pihMaeAOKODPzgFgCjMXQoaUA3RpVZ3oYErjJ7Kvmi7fjmSj0/mr0p41ebqsSjA6BwSD2E2ZFlM9l5zNv757PQ75a1ApPgNbImF6pVMyIbZ8xdTAyQwnbiH7yw6xpodG3s29dvm60V9DDI00boI6y9dRAQcEAAACEQZ58RRE8K/8AAAMDoRuz2Yg18WHZMHIAIq/pFj4U6D+R3MihxSUSHugzl5cmjiHKxM5nzFYiMaL7wZAWiOyO1ZqOkkNm8Cn1Ct44ZRayy+SNtrdrGFG15X576yBS2pegZT8fW2H8chbHGOPHSkJbW2bGaNZX4q86Nr6esim7YZE1hI45AAAAkAGenWpCfwAABLdv3c4Pd0QBCI0Z51rYDjX13ruM3bKJY0p6ermjSTTRydmGb5Pt8HWTzW1iRe39qmqKuBem6fy8M/0HxM5ubqm3/OC6aGuppYc1vlqZXSDPWxACVjpzodA48BKjted8V9Z/IYdbGvtSDmRvy4shDSkz6pnHyYpCQtAXvVn5juB5aNTw1C8GLAAAB1Ztb292AAAAbG12aGQAAAAAAAAAAAAAAAAAAAPoAAAMXwABAAABAAAAAAAAAAAAAAAAAQAAAAAAAAAAAAAAAAAAAAEAAAAAAAAAAAAAAAAAAEAAAAAAAAAAAAAAAAAAAAAAAAAAAAAAAAAAAAAAAAACAAAGgHRyYWsAAABcdGtoZAAAAAMAAAAAAAAAAAAAAAEAAAAAAAAMXwAAAAAAAAAAAAAAAAAAAAAAAQAAAAAAAAAAAAAAAAAAAAEAAAAAAAAAAAAAAAAAAEAAAAACYAAAAZAAAAAAACRlZHRzAAAAHGVsc3QAAAAAAAAAAQAADF8AAAQAAAEAAAAABfhtZGlhAAAAIG1kaGQAAAAAAAAAAAAAAAAAADwAAAC+AFXEAAAAAAAtaGRscgAAAAAAAAAAdmlkZQAAAAAAAAAAAAAAAFZpZGVvSGFuZGxlcgAAAAWjbWluZgAAABR2bWhkAAAAAQAAAAAAAAAAAAAAJGRpbmYAAAAcZHJlZgAAAAAAAAABAAAADHVybCAAAAABAAAFY3N0YmwAAACXc3RzZAAAAAAAAAABAAAAh2F2YzEAAAAAAAAAAQAAAAAAAAAAAAAAAAAAAAACYAGQAEgAAABIAAAAAAAAAAEAAAAAAAAAAAAAAAAAAAAAAAAAAAAAAAAAAAAAAAAAAAAY//8AAAAxYXZjQwFkAB7/4QAYZ2QAHqzZQJgzoQAAAwABAAADADwPFi2WAQAGaOvjyyLAAAAAGHN0dHMAAAAAAAAAAQAAAF8AAAIAAAAAFHN0c3MAAAAAAAAAAQAAAAEAAALYY3R0cwAAAAAAAABZAAAAAQAABAAAAAABAAAKAAAAAAEAAAQAAAAAAQAAAAAAAAABAAACAAAAAAEAAAoAAAAAAQAABAAAAAABAAAAAAAAAAEAAAIAAAAAAQAACgAAAAABAAAEAAAAAAEAAAAAAAAAAQAAAgAAAAABAAAKAAAAAAEAAAQAAAAAAQAAAAAAAAABAAACAAAAAAEAAAgAAAAAAgAAAgAAAAABAAAKAAAAAAEAAAQAAAAAAQAAAAAAAAABAAACAAAAAAEAAAgAAAAAAgAAAgAAAAABAAAKAAAAAAEAAAQAAAAAAQAAAAAAAAABAAACAAAAAAEAAAoAAAAAAQAABAAAAAABAAAAAAAAAAEAAAIAAAAAAQAACgAAAAABAAAEAAAAAAEAAAAAAAAAAQAAAgAAAAABAAAKAAAAAAEAAAQAAAAAAQAAAAAAAAABAAACAAAAAAEAAAoAAAAAAQAABAAAAAABAAAAAAAAAAEAAAIAAAAAAQAACgAAAAABAAAEAAAAAAEAAAAAAAAAAQAAAgAAAAABAAAKAAAAAAEAAAQAAAAAAQAAAAAAAAABAAACAAAAAAEAAAoAAAAAAQAABAAAAAABAAAAAAAAAAEAAAIAAAAAAQAACgAAAAABAAAEAAAAAAEAAAAAAAAAAQAAAgAAAAABAAAIAAAAAAIAAAIAAAAAAQAABgAAAAABAAACAAAAAAEAAAgAAAAAAgAAAgAAAAABAAAGAAAAAAEAAAIAAAAAAQAABAAAAAABAAAKAAAAAAEAAAQAAAAAAQAAAAAAAAABAAACAAAAAAEAAAoAAAAAAQAABAAAAAABAAAAAAAAAAEAAAIAAAAAAQAACgAAAAABAAAEAAAAAAEAAAAAAAAAAQAAAgAAAAACAAAEAAAAAAEAAAYAAAAAAQAAAgAAAAABAAAGAAAAAAEAAAIAAAAAAQAACAAAAAACAAACAAAAABxzdHNjAAAAAAAAAAEAAAABAAAAXwAAAAEAAAGQc3RzegAAAAAAAAAAAAAAXwAACuQAAAEgAAAAOgAAACYAAAAiAAAAzwAAAFwAAAA1AAAAQAAAAP0AAABTAAAAMwAAADoAAAF1AAAAjgAAAEAAAABbAAABWgAAAH0AAACMAAABgAAAAMkAAACMAAAAlgAAARoAAACKAAAAlwAAALgAAACvAAAAgQAAAKgAAAEAAAAAogAAAJcAAACEAAABHQAAAJ0AAACKAAAAjQAAAQkAAADEAAAAqwAAALMAAAEAAAAA3AAAAK0AAADUAAAA+QAAANgAAACaAAAAowAAANMAAAC0AAAAfQAAAJsAAAEDAAAAoQAAAHoAAACzAAABKwAAAK4AAADAAAAA7AAAAMkAAADAAAAAmgAAANsAAAB2AAAA0gAAAG8AAABRAAAAtQAAAFMAAADBAAAAmAAAAH4AAABUAAAARgAAAOkAAACBAAAAXQAAAHEAAADCAAAArwAAAGoAAACSAAAAvAAAALkAAAChAAAAeAAAALUAAACKAAAA1gAAAIgAAACUAAAAFHN0Y28AAAAAAAAAAQAAADAAAABidWR0YQAAAFptZXRhAAAAAAAAACFoZGxyAAAAAAAAAABtZGlyYXBwbAAAAAAAAAAAAAAAAC1pbHN0AAAAJal0b28AAAAdZGF0YQAAAAEAAAAATGF2ZjU4LjI5LjEwMA==\" type=\"video/mp4\">\n",
       "    Your browser does not support the video tag.\n",
       "    </video>"
      ],
      "text/plain": [
       "<IPython.core.display.HTML object>"
      ]
     },
     "execution_count": 31,
     "metadata": {},
     "output_type": "execute_result"
    }
   ],
   "source": [
    "filename = \"./videos/lunar_lander.mp4\"\n",
    "\n",
    "utils.create_video(filename, env, q_network)\n",
    "utils.embed_mp4(filename)"
   ]
  },
  {
   "cell_type": "markdown",
   "metadata": {},
   "source": [
    "<a name=\"11\"></a>\n",
    "## 11 - Congratulations!\n",
    "\n",
    "You have successfully used Deep Q-Learning with Experience Replay to train an agent to land a lunar lander safely on a landing pad on the surface of the moon. Congratulations!"
   ]
  },
  {
   "cell_type": "markdown",
   "metadata": {},
   "source": [
    "<a name=\"12\"></a>\n",
    "## 12 - References\n",
    "\n",
    "If you would like to learn more about Deep Q-Learning, we recommend you check out the following papers.\n",
    "\n",
    "\n",
    "* Mnih, V., Kavukcuoglu, K., Silver, D. et al. Human-level control through deep reinforcement learning. Nature 518, 529–533 (2015).\n",
    "\n",
    "\n",
    "* Lillicrap, T. P., Hunt, J. J., Pritzel, A., et al. Continuous Control with Deep Reinforcement Learning. ICLR (2016).\n",
    "\n",
    "\n",
    "* Mnih, V., Kavukcuoglu, K., Silver, D. et al. Playing Atari with Deep Reinforcement Learning. arXiv e-prints.  arXiv:1312.5602 (2013)."
   ]
  },
  {
   "cell_type": "markdown",
   "metadata": {},
   "source": [
    "<details>\n",
    "  <summary><font size=\"2\" color=\"darkgreen\"><b>Please click here if you want to experiment with any of the non-graded code.</b></font></summary>\n",
    "    <p><i><b>Important Note: Please only do this when you've already passed the assignment to avoid problems with the autograder.</b></i>\n",
    "    <ol>\n",
    "        <li> On the notebook’s menu, click “View” > “Cell Toolbar” > “Edit Metadata”</li>\n",
    "        <li> Hit the “Edit Metadata” button next to the code cell which you want to lock/unlock</li>\n",
    "        <li> Set the attribute value for “editable” to:\n",
    "            <ul>\n",
    "                <li> “true” if you want to unlock it </li>\n",
    "                <li> “false” if you want to lock it </li>\n",
    "            </ul>\n",
    "        </li>\n",
    "        <li> On the notebook’s menu, click “View” > “Cell Toolbar” > “None” </li>\n",
    "    </ol>\n",
    "    <p> Here's a short demo of how to do the steps above: \n",
    "        <br>\n",
    "        <img src=\"https://drive.google.com/uc?export=view&id=14Xy_Mb17CZVgzVAgq7NCjMVBvSae3xO1\" align=\"center\" alt=\"unlock_cells.gif\">\n",
    "</details>"
   ]
  }
 ],
 "metadata": {
  "accelerator": "GPU",
  "colab": {
   "collapsed_sections": [],
   "name": "TensorFlow - Lunar Lander.ipynb",
   "provenance": []
  },
  "kernelspec": {
   "display_name": "Python 3",
   "language": "python",
   "name": "python3"
  },
  "language_info": {
   "codemirror_mode": {
    "name": "ipython",
    "version": 3
   },
   "file_extension": ".py",
   "mimetype": "text/x-python",
   "name": "python",
   "nbconvert_exporter": "python",
   "pygments_lexer": "ipython3",
   "version": "3.7.6"
  }
 },
 "nbformat": 4,
 "nbformat_minor": 1
}
